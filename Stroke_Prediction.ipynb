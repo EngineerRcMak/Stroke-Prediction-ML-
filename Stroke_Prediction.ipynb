{
  "nbformat": 4,
  "nbformat_minor": 0,
  "metadata": {
    "colab": {
      "name": "Stroke Prediction.ipynb",
      "provenance": [],
      "collapsed_sections": []
    },
    "kernelspec": {
      "name": "python3",
      "display_name": "Python 3"
    },
    "language_info": {
      "name": "python"
    }
  },
  "cells": [
    {
      "cell_type": "code",
      "source": [
        "# DNN to predict Cardiovascular disease\n",
        "import csv\n",
        "import time\n",
        "import numpy as np\n",
        "import pandas as pd\n",
        "import tensorflow as tf\n",
        "import sklearn.model_selection as sk_model\n",
        "import sklearn.preprocessing as sk_preprocessing\n",
        "import sklearn.metrics as sk_metrics\n",
        "import matplotlib.pyplot as plt\n",
        "%matplotlib inline\n",
        "plt.rcParams[\"figure.figsize\"] = (12, 8)"
      ],
      "metadata": {
        "id": "TP_HUwrd32tL"
      },
      "execution_count": 232,
      "outputs": []
    },
    {
      "cell_type": "code",
      "source": [
        "# dataset input and output\n",
        "url = \"https://raw.githubusercontent.com/EngineerRcMak/Stroke-Prediction-Imbalanced-Dataset/main/Stroke%20Prediction.csv\"\n",
        "dataset = pd.read_csv(url, delimiter = ',')\n",
        "dataset_len = dataset.shape[0]\n",
        "dataset"
      ],
      "metadata": {
        "colab": {
          "base_uri": "https://localhost:8080/",
          "height": 424
        },
        "id": "FSKuw2hl3_Ia",
        "outputId": "f4b5d8f9-3c80-47cd-f99d-a7ca5aaee4ac"
      },
      "execution_count": 326,
      "outputs": [
        {
          "output_type": "execute_result",
          "data": {
            "text/plain": [
              "          id  gender   age  hypertension  heart_disease ever_married  \\\n",
              "0      30669    Male   3.0             0              0           No   \n",
              "1      30468    Male  58.0             1              0          Yes   \n",
              "2      16523  Female   8.0             0              0           No   \n",
              "3      56543  Female  70.0             0              0          Yes   \n",
              "4      46136    Male  14.0             0              0           No   \n",
              "...      ...     ...   ...           ...            ...          ...   \n",
              "43395  56196  Female  10.0             0              0           No   \n",
              "43396   5450  Female  56.0             0              0          Yes   \n",
              "43397  28375  Female  82.0             1              0          Yes   \n",
              "43398  27973    Male  40.0             0              0          Yes   \n",
              "43399  36271  Female  82.0             0              0          Yes   \n",
              "\n",
              "          work_type Residence_type  avg_glucose_level   bmi   smoking_status  \\\n",
              "0          children          Rural              95.12  18.0              NaN   \n",
              "1           Private          Urban              87.96  39.2     never smoked   \n",
              "2           Private          Urban             110.89  17.6              NaN   \n",
              "3           Private          Rural              69.04  35.9  formerly smoked   \n",
              "4      Never_worked          Rural             161.28  19.1              NaN   \n",
              "...             ...            ...                ...   ...              ...   \n",
              "43395      children          Urban              58.64  20.4     never smoked   \n",
              "43396      Govt_job          Urban             213.61  55.4  formerly smoked   \n",
              "43397       Private          Urban              91.94  28.9  formerly smoked   \n",
              "43398       Private          Urban              99.16  33.2     never smoked   \n",
              "43399       Private          Urban              79.48  20.6     never smoked   \n",
              "\n",
              "       stroke  \n",
              "0           0  \n",
              "1           0  \n",
              "2           0  \n",
              "3           0  \n",
              "4           0  \n",
              "...       ...  \n",
              "43395       0  \n",
              "43396       0  \n",
              "43397       0  \n",
              "43398       0  \n",
              "43399       0  \n",
              "\n",
              "[43400 rows x 12 columns]"
            ],
            "text/html": [
              "\n",
              "  <div id=\"df-641875c9-0d70-4401-98a3-04cf5d34243e\">\n",
              "    <div class=\"colab-df-container\">\n",
              "      <div>\n",
              "<style scoped>\n",
              "    .dataframe tbody tr th:only-of-type {\n",
              "        vertical-align: middle;\n",
              "    }\n",
              "\n",
              "    .dataframe tbody tr th {\n",
              "        vertical-align: top;\n",
              "    }\n",
              "\n",
              "    .dataframe thead th {\n",
              "        text-align: right;\n",
              "    }\n",
              "</style>\n",
              "<table border=\"1\" class=\"dataframe\">\n",
              "  <thead>\n",
              "    <tr style=\"text-align: right;\">\n",
              "      <th></th>\n",
              "      <th>id</th>\n",
              "      <th>gender</th>\n",
              "      <th>age</th>\n",
              "      <th>hypertension</th>\n",
              "      <th>heart_disease</th>\n",
              "      <th>ever_married</th>\n",
              "      <th>work_type</th>\n",
              "      <th>Residence_type</th>\n",
              "      <th>avg_glucose_level</th>\n",
              "      <th>bmi</th>\n",
              "      <th>smoking_status</th>\n",
              "      <th>stroke</th>\n",
              "    </tr>\n",
              "  </thead>\n",
              "  <tbody>\n",
              "    <tr>\n",
              "      <th>0</th>\n",
              "      <td>30669</td>\n",
              "      <td>Male</td>\n",
              "      <td>3.0</td>\n",
              "      <td>0</td>\n",
              "      <td>0</td>\n",
              "      <td>No</td>\n",
              "      <td>children</td>\n",
              "      <td>Rural</td>\n",
              "      <td>95.12</td>\n",
              "      <td>18.0</td>\n",
              "      <td>NaN</td>\n",
              "      <td>0</td>\n",
              "    </tr>\n",
              "    <tr>\n",
              "      <th>1</th>\n",
              "      <td>30468</td>\n",
              "      <td>Male</td>\n",
              "      <td>58.0</td>\n",
              "      <td>1</td>\n",
              "      <td>0</td>\n",
              "      <td>Yes</td>\n",
              "      <td>Private</td>\n",
              "      <td>Urban</td>\n",
              "      <td>87.96</td>\n",
              "      <td>39.2</td>\n",
              "      <td>never smoked</td>\n",
              "      <td>0</td>\n",
              "    </tr>\n",
              "    <tr>\n",
              "      <th>2</th>\n",
              "      <td>16523</td>\n",
              "      <td>Female</td>\n",
              "      <td>8.0</td>\n",
              "      <td>0</td>\n",
              "      <td>0</td>\n",
              "      <td>No</td>\n",
              "      <td>Private</td>\n",
              "      <td>Urban</td>\n",
              "      <td>110.89</td>\n",
              "      <td>17.6</td>\n",
              "      <td>NaN</td>\n",
              "      <td>0</td>\n",
              "    </tr>\n",
              "    <tr>\n",
              "      <th>3</th>\n",
              "      <td>56543</td>\n",
              "      <td>Female</td>\n",
              "      <td>70.0</td>\n",
              "      <td>0</td>\n",
              "      <td>0</td>\n",
              "      <td>Yes</td>\n",
              "      <td>Private</td>\n",
              "      <td>Rural</td>\n",
              "      <td>69.04</td>\n",
              "      <td>35.9</td>\n",
              "      <td>formerly smoked</td>\n",
              "      <td>0</td>\n",
              "    </tr>\n",
              "    <tr>\n",
              "      <th>4</th>\n",
              "      <td>46136</td>\n",
              "      <td>Male</td>\n",
              "      <td>14.0</td>\n",
              "      <td>0</td>\n",
              "      <td>0</td>\n",
              "      <td>No</td>\n",
              "      <td>Never_worked</td>\n",
              "      <td>Rural</td>\n",
              "      <td>161.28</td>\n",
              "      <td>19.1</td>\n",
              "      <td>NaN</td>\n",
              "      <td>0</td>\n",
              "    </tr>\n",
              "    <tr>\n",
              "      <th>...</th>\n",
              "      <td>...</td>\n",
              "      <td>...</td>\n",
              "      <td>...</td>\n",
              "      <td>...</td>\n",
              "      <td>...</td>\n",
              "      <td>...</td>\n",
              "      <td>...</td>\n",
              "      <td>...</td>\n",
              "      <td>...</td>\n",
              "      <td>...</td>\n",
              "      <td>...</td>\n",
              "      <td>...</td>\n",
              "    </tr>\n",
              "    <tr>\n",
              "      <th>43395</th>\n",
              "      <td>56196</td>\n",
              "      <td>Female</td>\n",
              "      <td>10.0</td>\n",
              "      <td>0</td>\n",
              "      <td>0</td>\n",
              "      <td>No</td>\n",
              "      <td>children</td>\n",
              "      <td>Urban</td>\n",
              "      <td>58.64</td>\n",
              "      <td>20.4</td>\n",
              "      <td>never smoked</td>\n",
              "      <td>0</td>\n",
              "    </tr>\n",
              "    <tr>\n",
              "      <th>43396</th>\n",
              "      <td>5450</td>\n",
              "      <td>Female</td>\n",
              "      <td>56.0</td>\n",
              "      <td>0</td>\n",
              "      <td>0</td>\n",
              "      <td>Yes</td>\n",
              "      <td>Govt_job</td>\n",
              "      <td>Urban</td>\n",
              "      <td>213.61</td>\n",
              "      <td>55.4</td>\n",
              "      <td>formerly smoked</td>\n",
              "      <td>0</td>\n",
              "    </tr>\n",
              "    <tr>\n",
              "      <th>43397</th>\n",
              "      <td>28375</td>\n",
              "      <td>Female</td>\n",
              "      <td>82.0</td>\n",
              "      <td>1</td>\n",
              "      <td>0</td>\n",
              "      <td>Yes</td>\n",
              "      <td>Private</td>\n",
              "      <td>Urban</td>\n",
              "      <td>91.94</td>\n",
              "      <td>28.9</td>\n",
              "      <td>formerly smoked</td>\n",
              "      <td>0</td>\n",
              "    </tr>\n",
              "    <tr>\n",
              "      <th>43398</th>\n",
              "      <td>27973</td>\n",
              "      <td>Male</td>\n",
              "      <td>40.0</td>\n",
              "      <td>0</td>\n",
              "      <td>0</td>\n",
              "      <td>Yes</td>\n",
              "      <td>Private</td>\n",
              "      <td>Urban</td>\n",
              "      <td>99.16</td>\n",
              "      <td>33.2</td>\n",
              "      <td>never smoked</td>\n",
              "      <td>0</td>\n",
              "    </tr>\n",
              "    <tr>\n",
              "      <th>43399</th>\n",
              "      <td>36271</td>\n",
              "      <td>Female</td>\n",
              "      <td>82.0</td>\n",
              "      <td>0</td>\n",
              "      <td>0</td>\n",
              "      <td>Yes</td>\n",
              "      <td>Private</td>\n",
              "      <td>Urban</td>\n",
              "      <td>79.48</td>\n",
              "      <td>20.6</td>\n",
              "      <td>never smoked</td>\n",
              "      <td>0</td>\n",
              "    </tr>\n",
              "  </tbody>\n",
              "</table>\n",
              "<p>43400 rows × 12 columns</p>\n",
              "</div>\n",
              "      <button class=\"colab-df-convert\" onclick=\"convertToInteractive('df-641875c9-0d70-4401-98a3-04cf5d34243e')\"\n",
              "              title=\"Convert this dataframe to an interactive table.\"\n",
              "              style=\"display:none;\">\n",
              "        \n",
              "  <svg xmlns=\"http://www.w3.org/2000/svg\" height=\"24px\"viewBox=\"0 0 24 24\"\n",
              "       width=\"24px\">\n",
              "    <path d=\"M0 0h24v24H0V0z\" fill=\"none\"/>\n",
              "    <path d=\"M18.56 5.44l.94 2.06.94-2.06 2.06-.94-2.06-.94-.94-2.06-.94 2.06-2.06.94zm-11 1L8.5 8.5l.94-2.06 2.06-.94-2.06-.94L8.5 2.5l-.94 2.06-2.06.94zm10 10l.94 2.06.94-2.06 2.06-.94-2.06-.94-.94-2.06-.94 2.06-2.06.94z\"/><path d=\"M17.41 7.96l-1.37-1.37c-.4-.4-.92-.59-1.43-.59-.52 0-1.04.2-1.43.59L10.3 9.45l-7.72 7.72c-.78.78-.78 2.05 0 2.83L4 21.41c.39.39.9.59 1.41.59.51 0 1.02-.2 1.41-.59l7.78-7.78 2.81-2.81c.8-.78.8-2.07 0-2.86zM5.41 20L4 18.59l7.72-7.72 1.47 1.35L5.41 20z\"/>\n",
              "  </svg>\n",
              "      </button>\n",
              "      \n",
              "  <style>\n",
              "    .colab-df-container {\n",
              "      display:flex;\n",
              "      flex-wrap:wrap;\n",
              "      gap: 12px;\n",
              "    }\n",
              "\n",
              "    .colab-df-convert {\n",
              "      background-color: #E8F0FE;\n",
              "      border: none;\n",
              "      border-radius: 50%;\n",
              "      cursor: pointer;\n",
              "      display: none;\n",
              "      fill: #1967D2;\n",
              "      height: 32px;\n",
              "      padding: 0 0 0 0;\n",
              "      width: 32px;\n",
              "    }\n",
              "\n",
              "    .colab-df-convert:hover {\n",
              "      background-color: #E2EBFA;\n",
              "      box-shadow: 0px 1px 2px rgba(60, 64, 67, 0.3), 0px 1px 3px 1px rgba(60, 64, 67, 0.15);\n",
              "      fill: #174EA6;\n",
              "    }\n",
              "\n",
              "    [theme=dark] .colab-df-convert {\n",
              "      background-color: #3B4455;\n",
              "      fill: #D2E3FC;\n",
              "    }\n",
              "\n",
              "    [theme=dark] .colab-df-convert:hover {\n",
              "      background-color: #434B5C;\n",
              "      box-shadow: 0px 1px 3px 1px rgba(0, 0, 0, 0.15);\n",
              "      filter: drop-shadow(0px 1px 2px rgba(0, 0, 0, 0.3));\n",
              "      fill: #FFFFFF;\n",
              "    }\n",
              "  </style>\n",
              "\n",
              "      <script>\n",
              "        const buttonEl =\n",
              "          document.querySelector('#df-641875c9-0d70-4401-98a3-04cf5d34243e button.colab-df-convert');\n",
              "        buttonEl.style.display =\n",
              "          google.colab.kernel.accessAllowed ? 'block' : 'none';\n",
              "\n",
              "        async function convertToInteractive(key) {\n",
              "          const element = document.querySelector('#df-641875c9-0d70-4401-98a3-04cf5d34243e');\n",
              "          const dataTable =\n",
              "            await google.colab.kernel.invokeFunction('convertToInteractive',\n",
              "                                                     [key], {});\n",
              "          if (!dataTable) return;\n",
              "\n",
              "          const docLinkHtml = 'Like what you see? Visit the ' +\n",
              "            '<a target=\"_blank\" href=https://colab.research.google.com/notebooks/data_table.ipynb>data table notebook</a>'\n",
              "            + ' to learn more about interactive tables.';\n",
              "          element.innerHTML = '';\n",
              "          dataTable['output_type'] = 'display_data';\n",
              "          await google.colab.output.renderOutput(dataTable, element);\n",
              "          const docLink = document.createElement('div');\n",
              "          docLink.innerHTML = docLinkHtml;\n",
              "          element.appendChild(docLink);\n",
              "        }\n",
              "      </script>\n",
              "    </div>\n",
              "  </div>\n",
              "  "
            ]
          },
          "metadata": {},
          "execution_count": 326
        }
      ]
    },
    {
      "cell_type": "code",
      "source": [
        "del dataset[\"id\"]\n",
        "del dataset[\"gender\"]\n",
        "del dataset[\"work_type\"]\n",
        "del dataset[\"smoking_status\"]\n",
        "dataset"
      ],
      "metadata": {
        "colab": {
          "base_uri": "https://localhost:8080/",
          "height": 424
        },
        "id": "BJkulRBX7IdX",
        "outputId": "702f4af9-363d-438b-a179-1e179f795e94"
      },
      "execution_count": 327,
      "outputs": [
        {
          "output_type": "execute_result",
          "data": {
            "text/plain": [
              "        age  hypertension  heart_disease ever_married Residence_type  \\\n",
              "0       3.0             0              0           No          Rural   \n",
              "1      58.0             1              0          Yes          Urban   \n",
              "2       8.0             0              0           No          Urban   \n",
              "3      70.0             0              0          Yes          Rural   \n",
              "4      14.0             0              0           No          Rural   \n",
              "...     ...           ...            ...          ...            ...   \n",
              "43395  10.0             0              0           No          Urban   \n",
              "43396  56.0             0              0          Yes          Urban   \n",
              "43397  82.0             1              0          Yes          Urban   \n",
              "43398  40.0             0              0          Yes          Urban   \n",
              "43399  82.0             0              0          Yes          Urban   \n",
              "\n",
              "       avg_glucose_level   bmi  stroke  \n",
              "0                  95.12  18.0       0  \n",
              "1                  87.96  39.2       0  \n",
              "2                 110.89  17.6       0  \n",
              "3                  69.04  35.9       0  \n",
              "4                 161.28  19.1       0  \n",
              "...                  ...   ...     ...  \n",
              "43395              58.64  20.4       0  \n",
              "43396             213.61  55.4       0  \n",
              "43397              91.94  28.9       0  \n",
              "43398              99.16  33.2       0  \n",
              "43399              79.48  20.6       0  \n",
              "\n",
              "[43400 rows x 8 columns]"
            ],
            "text/html": [
              "\n",
              "  <div id=\"df-785847f2-2650-47b5-bea9-1639af063af0\">\n",
              "    <div class=\"colab-df-container\">\n",
              "      <div>\n",
              "<style scoped>\n",
              "    .dataframe tbody tr th:only-of-type {\n",
              "        vertical-align: middle;\n",
              "    }\n",
              "\n",
              "    .dataframe tbody tr th {\n",
              "        vertical-align: top;\n",
              "    }\n",
              "\n",
              "    .dataframe thead th {\n",
              "        text-align: right;\n",
              "    }\n",
              "</style>\n",
              "<table border=\"1\" class=\"dataframe\">\n",
              "  <thead>\n",
              "    <tr style=\"text-align: right;\">\n",
              "      <th></th>\n",
              "      <th>age</th>\n",
              "      <th>hypertension</th>\n",
              "      <th>heart_disease</th>\n",
              "      <th>ever_married</th>\n",
              "      <th>Residence_type</th>\n",
              "      <th>avg_glucose_level</th>\n",
              "      <th>bmi</th>\n",
              "      <th>stroke</th>\n",
              "    </tr>\n",
              "  </thead>\n",
              "  <tbody>\n",
              "    <tr>\n",
              "      <th>0</th>\n",
              "      <td>3.0</td>\n",
              "      <td>0</td>\n",
              "      <td>0</td>\n",
              "      <td>No</td>\n",
              "      <td>Rural</td>\n",
              "      <td>95.12</td>\n",
              "      <td>18.0</td>\n",
              "      <td>0</td>\n",
              "    </tr>\n",
              "    <tr>\n",
              "      <th>1</th>\n",
              "      <td>58.0</td>\n",
              "      <td>1</td>\n",
              "      <td>0</td>\n",
              "      <td>Yes</td>\n",
              "      <td>Urban</td>\n",
              "      <td>87.96</td>\n",
              "      <td>39.2</td>\n",
              "      <td>0</td>\n",
              "    </tr>\n",
              "    <tr>\n",
              "      <th>2</th>\n",
              "      <td>8.0</td>\n",
              "      <td>0</td>\n",
              "      <td>0</td>\n",
              "      <td>No</td>\n",
              "      <td>Urban</td>\n",
              "      <td>110.89</td>\n",
              "      <td>17.6</td>\n",
              "      <td>0</td>\n",
              "    </tr>\n",
              "    <tr>\n",
              "      <th>3</th>\n",
              "      <td>70.0</td>\n",
              "      <td>0</td>\n",
              "      <td>0</td>\n",
              "      <td>Yes</td>\n",
              "      <td>Rural</td>\n",
              "      <td>69.04</td>\n",
              "      <td>35.9</td>\n",
              "      <td>0</td>\n",
              "    </tr>\n",
              "    <tr>\n",
              "      <th>4</th>\n",
              "      <td>14.0</td>\n",
              "      <td>0</td>\n",
              "      <td>0</td>\n",
              "      <td>No</td>\n",
              "      <td>Rural</td>\n",
              "      <td>161.28</td>\n",
              "      <td>19.1</td>\n",
              "      <td>0</td>\n",
              "    </tr>\n",
              "    <tr>\n",
              "      <th>...</th>\n",
              "      <td>...</td>\n",
              "      <td>...</td>\n",
              "      <td>...</td>\n",
              "      <td>...</td>\n",
              "      <td>...</td>\n",
              "      <td>...</td>\n",
              "      <td>...</td>\n",
              "      <td>...</td>\n",
              "    </tr>\n",
              "    <tr>\n",
              "      <th>43395</th>\n",
              "      <td>10.0</td>\n",
              "      <td>0</td>\n",
              "      <td>0</td>\n",
              "      <td>No</td>\n",
              "      <td>Urban</td>\n",
              "      <td>58.64</td>\n",
              "      <td>20.4</td>\n",
              "      <td>0</td>\n",
              "    </tr>\n",
              "    <tr>\n",
              "      <th>43396</th>\n",
              "      <td>56.0</td>\n",
              "      <td>0</td>\n",
              "      <td>0</td>\n",
              "      <td>Yes</td>\n",
              "      <td>Urban</td>\n",
              "      <td>213.61</td>\n",
              "      <td>55.4</td>\n",
              "      <td>0</td>\n",
              "    </tr>\n",
              "    <tr>\n",
              "      <th>43397</th>\n",
              "      <td>82.0</td>\n",
              "      <td>1</td>\n",
              "      <td>0</td>\n",
              "      <td>Yes</td>\n",
              "      <td>Urban</td>\n",
              "      <td>91.94</td>\n",
              "      <td>28.9</td>\n",
              "      <td>0</td>\n",
              "    </tr>\n",
              "    <tr>\n",
              "      <th>43398</th>\n",
              "      <td>40.0</td>\n",
              "      <td>0</td>\n",
              "      <td>0</td>\n",
              "      <td>Yes</td>\n",
              "      <td>Urban</td>\n",
              "      <td>99.16</td>\n",
              "      <td>33.2</td>\n",
              "      <td>0</td>\n",
              "    </tr>\n",
              "    <tr>\n",
              "      <th>43399</th>\n",
              "      <td>82.0</td>\n",
              "      <td>0</td>\n",
              "      <td>0</td>\n",
              "      <td>Yes</td>\n",
              "      <td>Urban</td>\n",
              "      <td>79.48</td>\n",
              "      <td>20.6</td>\n",
              "      <td>0</td>\n",
              "    </tr>\n",
              "  </tbody>\n",
              "</table>\n",
              "<p>43400 rows × 8 columns</p>\n",
              "</div>\n",
              "      <button class=\"colab-df-convert\" onclick=\"convertToInteractive('df-785847f2-2650-47b5-bea9-1639af063af0')\"\n",
              "              title=\"Convert this dataframe to an interactive table.\"\n",
              "              style=\"display:none;\">\n",
              "        \n",
              "  <svg xmlns=\"http://www.w3.org/2000/svg\" height=\"24px\"viewBox=\"0 0 24 24\"\n",
              "       width=\"24px\">\n",
              "    <path d=\"M0 0h24v24H0V0z\" fill=\"none\"/>\n",
              "    <path d=\"M18.56 5.44l.94 2.06.94-2.06 2.06-.94-2.06-.94-.94-2.06-.94 2.06-2.06.94zm-11 1L8.5 8.5l.94-2.06 2.06-.94-2.06-.94L8.5 2.5l-.94 2.06-2.06.94zm10 10l.94 2.06.94-2.06 2.06-.94-2.06-.94-.94-2.06-.94 2.06-2.06.94z\"/><path d=\"M17.41 7.96l-1.37-1.37c-.4-.4-.92-.59-1.43-.59-.52 0-1.04.2-1.43.59L10.3 9.45l-7.72 7.72c-.78.78-.78 2.05 0 2.83L4 21.41c.39.39.9.59 1.41.59.51 0 1.02-.2 1.41-.59l7.78-7.78 2.81-2.81c.8-.78.8-2.07 0-2.86zM5.41 20L4 18.59l7.72-7.72 1.47 1.35L5.41 20z\"/>\n",
              "  </svg>\n",
              "      </button>\n",
              "      \n",
              "  <style>\n",
              "    .colab-df-container {\n",
              "      display:flex;\n",
              "      flex-wrap:wrap;\n",
              "      gap: 12px;\n",
              "    }\n",
              "\n",
              "    .colab-df-convert {\n",
              "      background-color: #E8F0FE;\n",
              "      border: none;\n",
              "      border-radius: 50%;\n",
              "      cursor: pointer;\n",
              "      display: none;\n",
              "      fill: #1967D2;\n",
              "      height: 32px;\n",
              "      padding: 0 0 0 0;\n",
              "      width: 32px;\n",
              "    }\n",
              "\n",
              "    .colab-df-convert:hover {\n",
              "      background-color: #E2EBFA;\n",
              "      box-shadow: 0px 1px 2px rgba(60, 64, 67, 0.3), 0px 1px 3px 1px rgba(60, 64, 67, 0.15);\n",
              "      fill: #174EA6;\n",
              "    }\n",
              "\n",
              "    [theme=dark] .colab-df-convert {\n",
              "      background-color: #3B4455;\n",
              "      fill: #D2E3FC;\n",
              "    }\n",
              "\n",
              "    [theme=dark] .colab-df-convert:hover {\n",
              "      background-color: #434B5C;\n",
              "      box-shadow: 0px 1px 3px 1px rgba(0, 0, 0, 0.15);\n",
              "      filter: drop-shadow(0px 1px 2px rgba(0, 0, 0, 0.3));\n",
              "      fill: #FFFFFF;\n",
              "    }\n",
              "  </style>\n",
              "\n",
              "      <script>\n",
              "        const buttonEl =\n",
              "          document.querySelector('#df-785847f2-2650-47b5-bea9-1639af063af0 button.colab-df-convert');\n",
              "        buttonEl.style.display =\n",
              "          google.colab.kernel.accessAllowed ? 'block' : 'none';\n",
              "\n",
              "        async function convertToInteractive(key) {\n",
              "          const element = document.querySelector('#df-785847f2-2650-47b5-bea9-1639af063af0');\n",
              "          const dataTable =\n",
              "            await google.colab.kernel.invokeFunction('convertToInteractive',\n",
              "                                                     [key], {});\n",
              "          if (!dataTable) return;\n",
              "\n",
              "          const docLinkHtml = 'Like what you see? Visit the ' +\n",
              "            '<a target=\"_blank\" href=https://colab.research.google.com/notebooks/data_table.ipynb>data table notebook</a>'\n",
              "            + ' to learn more about interactive tables.';\n",
              "          element.innerHTML = '';\n",
              "          dataTable['output_type'] = 'display_data';\n",
              "          await google.colab.output.renderOutput(dataTable, element);\n",
              "          const docLink = document.createElement('div');\n",
              "          docLink.innerHTML = docLinkHtml;\n",
              "          element.appendChild(docLink);\n",
              "        }\n",
              "      </script>\n",
              "    </div>\n",
              "  </div>\n",
              "  "
            ]
          },
          "metadata": {},
          "execution_count": 327
        }
      ]
    },
    {
      "cell_type": "code",
      "source": [
        "# dataset manipulation\\\n",
        "dataset[\"ever_married\"]= dataset[\"ever_married\"].replace({\"No\":0,\"Yes\":1})\n",
        "dataset[\"Residence_type\"]= dataset[\"Residence_type\"].replace({\"Rural\":0,\"Urban\":1})\n",
        "dataset"
      ],
      "metadata": {
        "colab": {
          "base_uri": "https://localhost:8080/",
          "height": 424
        },
        "id": "aSioaW_N7sSe",
        "outputId": "ca4f2fd0-dcbe-4cda-983a-576bffff80c1"
      },
      "execution_count": 330,
      "outputs": [
        {
          "output_type": "execute_result",
          "data": {
            "text/plain": [
              "        age  hypertension  heart_disease  ever_married  Residence_type  \\\n",
              "0       3.0             0              0             0               0   \n",
              "1      58.0             1              0             1               1   \n",
              "2       8.0             0              0             0               1   \n",
              "3      70.0             0              0             1               0   \n",
              "4      14.0             0              0             0               0   \n",
              "...     ...           ...            ...           ...             ...   \n",
              "43395  10.0             0              0             0               1   \n",
              "43396  56.0             0              0             1               1   \n",
              "43397  82.0             1              0             1               1   \n",
              "43398  40.0             0              0             1               1   \n",
              "43399  82.0             0              0             1               1   \n",
              "\n",
              "       avg_glucose_level   bmi  stroke  \n",
              "0                  95.12  18.0       0  \n",
              "1                  87.96  39.2       0  \n",
              "2                 110.89  17.6       0  \n",
              "3                  69.04  35.9       0  \n",
              "4                 161.28  19.1       0  \n",
              "...                  ...   ...     ...  \n",
              "43395              58.64  20.4       0  \n",
              "43396             213.61  55.4       0  \n",
              "43397              91.94  28.9       0  \n",
              "43398              99.16  33.2       0  \n",
              "43399              79.48  20.6       0  \n",
              "\n",
              "[43400 rows x 8 columns]"
            ],
            "text/html": [
              "\n",
              "  <div id=\"df-a4d5ce38-609e-4a3b-b809-6f0ec96e6797\">\n",
              "    <div class=\"colab-df-container\">\n",
              "      <div>\n",
              "<style scoped>\n",
              "    .dataframe tbody tr th:only-of-type {\n",
              "        vertical-align: middle;\n",
              "    }\n",
              "\n",
              "    .dataframe tbody tr th {\n",
              "        vertical-align: top;\n",
              "    }\n",
              "\n",
              "    .dataframe thead th {\n",
              "        text-align: right;\n",
              "    }\n",
              "</style>\n",
              "<table border=\"1\" class=\"dataframe\">\n",
              "  <thead>\n",
              "    <tr style=\"text-align: right;\">\n",
              "      <th></th>\n",
              "      <th>age</th>\n",
              "      <th>hypertension</th>\n",
              "      <th>heart_disease</th>\n",
              "      <th>ever_married</th>\n",
              "      <th>Residence_type</th>\n",
              "      <th>avg_glucose_level</th>\n",
              "      <th>bmi</th>\n",
              "      <th>stroke</th>\n",
              "    </tr>\n",
              "  </thead>\n",
              "  <tbody>\n",
              "    <tr>\n",
              "      <th>0</th>\n",
              "      <td>3.0</td>\n",
              "      <td>0</td>\n",
              "      <td>0</td>\n",
              "      <td>0</td>\n",
              "      <td>0</td>\n",
              "      <td>95.12</td>\n",
              "      <td>18.0</td>\n",
              "      <td>0</td>\n",
              "    </tr>\n",
              "    <tr>\n",
              "      <th>1</th>\n",
              "      <td>58.0</td>\n",
              "      <td>1</td>\n",
              "      <td>0</td>\n",
              "      <td>1</td>\n",
              "      <td>1</td>\n",
              "      <td>87.96</td>\n",
              "      <td>39.2</td>\n",
              "      <td>0</td>\n",
              "    </tr>\n",
              "    <tr>\n",
              "      <th>2</th>\n",
              "      <td>8.0</td>\n",
              "      <td>0</td>\n",
              "      <td>0</td>\n",
              "      <td>0</td>\n",
              "      <td>1</td>\n",
              "      <td>110.89</td>\n",
              "      <td>17.6</td>\n",
              "      <td>0</td>\n",
              "    </tr>\n",
              "    <tr>\n",
              "      <th>3</th>\n",
              "      <td>70.0</td>\n",
              "      <td>0</td>\n",
              "      <td>0</td>\n",
              "      <td>1</td>\n",
              "      <td>0</td>\n",
              "      <td>69.04</td>\n",
              "      <td>35.9</td>\n",
              "      <td>0</td>\n",
              "    </tr>\n",
              "    <tr>\n",
              "      <th>4</th>\n",
              "      <td>14.0</td>\n",
              "      <td>0</td>\n",
              "      <td>0</td>\n",
              "      <td>0</td>\n",
              "      <td>0</td>\n",
              "      <td>161.28</td>\n",
              "      <td>19.1</td>\n",
              "      <td>0</td>\n",
              "    </tr>\n",
              "    <tr>\n",
              "      <th>...</th>\n",
              "      <td>...</td>\n",
              "      <td>...</td>\n",
              "      <td>...</td>\n",
              "      <td>...</td>\n",
              "      <td>...</td>\n",
              "      <td>...</td>\n",
              "      <td>...</td>\n",
              "      <td>...</td>\n",
              "    </tr>\n",
              "    <tr>\n",
              "      <th>43395</th>\n",
              "      <td>10.0</td>\n",
              "      <td>0</td>\n",
              "      <td>0</td>\n",
              "      <td>0</td>\n",
              "      <td>1</td>\n",
              "      <td>58.64</td>\n",
              "      <td>20.4</td>\n",
              "      <td>0</td>\n",
              "    </tr>\n",
              "    <tr>\n",
              "      <th>43396</th>\n",
              "      <td>56.0</td>\n",
              "      <td>0</td>\n",
              "      <td>0</td>\n",
              "      <td>1</td>\n",
              "      <td>1</td>\n",
              "      <td>213.61</td>\n",
              "      <td>55.4</td>\n",
              "      <td>0</td>\n",
              "    </tr>\n",
              "    <tr>\n",
              "      <th>43397</th>\n",
              "      <td>82.0</td>\n",
              "      <td>1</td>\n",
              "      <td>0</td>\n",
              "      <td>1</td>\n",
              "      <td>1</td>\n",
              "      <td>91.94</td>\n",
              "      <td>28.9</td>\n",
              "      <td>0</td>\n",
              "    </tr>\n",
              "    <tr>\n",
              "      <th>43398</th>\n",
              "      <td>40.0</td>\n",
              "      <td>0</td>\n",
              "      <td>0</td>\n",
              "      <td>1</td>\n",
              "      <td>1</td>\n",
              "      <td>99.16</td>\n",
              "      <td>33.2</td>\n",
              "      <td>0</td>\n",
              "    </tr>\n",
              "    <tr>\n",
              "      <th>43399</th>\n",
              "      <td>82.0</td>\n",
              "      <td>0</td>\n",
              "      <td>0</td>\n",
              "      <td>1</td>\n",
              "      <td>1</td>\n",
              "      <td>79.48</td>\n",
              "      <td>20.6</td>\n",
              "      <td>0</td>\n",
              "    </tr>\n",
              "  </tbody>\n",
              "</table>\n",
              "<p>43400 rows × 8 columns</p>\n",
              "</div>\n",
              "      <button class=\"colab-df-convert\" onclick=\"convertToInteractive('df-a4d5ce38-609e-4a3b-b809-6f0ec96e6797')\"\n",
              "              title=\"Convert this dataframe to an interactive table.\"\n",
              "              style=\"display:none;\">\n",
              "        \n",
              "  <svg xmlns=\"http://www.w3.org/2000/svg\" height=\"24px\"viewBox=\"0 0 24 24\"\n",
              "       width=\"24px\">\n",
              "    <path d=\"M0 0h24v24H0V0z\" fill=\"none\"/>\n",
              "    <path d=\"M18.56 5.44l.94 2.06.94-2.06 2.06-.94-2.06-.94-.94-2.06-.94 2.06-2.06.94zm-11 1L8.5 8.5l.94-2.06 2.06-.94-2.06-.94L8.5 2.5l-.94 2.06-2.06.94zm10 10l.94 2.06.94-2.06 2.06-.94-2.06-.94-.94-2.06-.94 2.06-2.06.94z\"/><path d=\"M17.41 7.96l-1.37-1.37c-.4-.4-.92-.59-1.43-.59-.52 0-1.04.2-1.43.59L10.3 9.45l-7.72 7.72c-.78.78-.78 2.05 0 2.83L4 21.41c.39.39.9.59 1.41.59.51 0 1.02-.2 1.41-.59l7.78-7.78 2.81-2.81c.8-.78.8-2.07 0-2.86zM5.41 20L4 18.59l7.72-7.72 1.47 1.35L5.41 20z\"/>\n",
              "  </svg>\n",
              "      </button>\n",
              "      \n",
              "  <style>\n",
              "    .colab-df-container {\n",
              "      display:flex;\n",
              "      flex-wrap:wrap;\n",
              "      gap: 12px;\n",
              "    }\n",
              "\n",
              "    .colab-df-convert {\n",
              "      background-color: #E8F0FE;\n",
              "      border: none;\n",
              "      border-radius: 50%;\n",
              "      cursor: pointer;\n",
              "      display: none;\n",
              "      fill: #1967D2;\n",
              "      height: 32px;\n",
              "      padding: 0 0 0 0;\n",
              "      width: 32px;\n",
              "    }\n",
              "\n",
              "    .colab-df-convert:hover {\n",
              "      background-color: #E2EBFA;\n",
              "      box-shadow: 0px 1px 2px rgba(60, 64, 67, 0.3), 0px 1px 3px 1px rgba(60, 64, 67, 0.15);\n",
              "      fill: #174EA6;\n",
              "    }\n",
              "\n",
              "    [theme=dark] .colab-df-convert {\n",
              "      background-color: #3B4455;\n",
              "      fill: #D2E3FC;\n",
              "    }\n",
              "\n",
              "    [theme=dark] .colab-df-convert:hover {\n",
              "      background-color: #434B5C;\n",
              "      box-shadow: 0px 1px 3px 1px rgba(0, 0, 0, 0.15);\n",
              "      filter: drop-shadow(0px 1px 2px rgba(0, 0, 0, 0.3));\n",
              "      fill: #FFFFFF;\n",
              "    }\n",
              "  </style>\n",
              "\n",
              "      <script>\n",
              "        const buttonEl =\n",
              "          document.querySelector('#df-a4d5ce38-609e-4a3b-b809-6f0ec96e6797 button.colab-df-convert');\n",
              "        buttonEl.style.display =\n",
              "          google.colab.kernel.accessAllowed ? 'block' : 'none';\n",
              "\n",
              "        async function convertToInteractive(key) {\n",
              "          const element = document.querySelector('#df-a4d5ce38-609e-4a3b-b809-6f0ec96e6797');\n",
              "          const dataTable =\n",
              "            await google.colab.kernel.invokeFunction('convertToInteractive',\n",
              "                                                     [key], {});\n",
              "          if (!dataTable) return;\n",
              "\n",
              "          const docLinkHtml = 'Like what you see? Visit the ' +\n",
              "            '<a target=\"_blank\" href=https://colab.research.google.com/notebooks/data_table.ipynb>data table notebook</a>'\n",
              "            + ' to learn more about interactive tables.';\n",
              "          element.innerHTML = '';\n",
              "          dataTable['output_type'] = 'display_data';\n",
              "          await google.colab.output.renderOutput(dataTable, element);\n",
              "          const docLink = document.createElement('div');\n",
              "          docLink.innerHTML = docLinkHtml;\n",
              "          element.appendChild(docLink);\n",
              "        }\n",
              "      </script>\n",
              "    </div>\n",
              "  </div>\n",
              "  "
            ]
          },
          "metadata": {},
          "execution_count": 330
        }
      ]
    },
    {
      "cell_type": "code",
      "source": [
        "dataset.describe()"
      ],
      "metadata": {
        "colab": {
          "base_uri": "https://localhost:8080/",
          "height": 300
        },
        "id": "mwffQfrQrxDU",
        "outputId": "fe35009e-cfd1-4f58-d564-2a6b89a34549"
      },
      "execution_count": 331,
      "outputs": [
        {
          "output_type": "execute_result",
          "data": {
            "text/plain": [
              "                age  hypertension  heart_disease  ever_married  \\\n",
              "count  43400.000000  43400.000000   43400.000000  43400.000000   \n",
              "mean      42.217894      0.093571       0.047512      0.643733   \n",
              "std       22.519649      0.291235       0.212733      0.478901   \n",
              "min        0.080000      0.000000       0.000000      0.000000   \n",
              "25%       24.000000      0.000000       0.000000      0.000000   \n",
              "50%       44.000000      0.000000       0.000000      1.000000   \n",
              "75%       60.000000      0.000000       0.000000      1.000000   \n",
              "max       82.000000      1.000000       1.000000      1.000000   \n",
              "\n",
              "       Residence_type  avg_glucose_level           bmi        stroke  \n",
              "count    43400.000000       43400.000000  41938.000000  43400.000000  \n",
              "mean         0.501290         104.482750     28.605038      0.018041  \n",
              "std          0.500004          43.111751      7.770020      0.133103  \n",
              "min          0.000000          55.000000     10.100000      0.000000  \n",
              "25%          0.000000          77.540000     23.200000      0.000000  \n",
              "50%          1.000000          91.580000     27.700000      0.000000  \n",
              "75%          1.000000         112.070000     32.900000      0.000000  \n",
              "max          1.000000         291.050000     97.600000      1.000000  "
            ],
            "text/html": [
              "\n",
              "  <div id=\"df-6a91386c-432b-4474-9a8a-2e1d3ee9f73c\">\n",
              "    <div class=\"colab-df-container\">\n",
              "      <div>\n",
              "<style scoped>\n",
              "    .dataframe tbody tr th:only-of-type {\n",
              "        vertical-align: middle;\n",
              "    }\n",
              "\n",
              "    .dataframe tbody tr th {\n",
              "        vertical-align: top;\n",
              "    }\n",
              "\n",
              "    .dataframe thead th {\n",
              "        text-align: right;\n",
              "    }\n",
              "</style>\n",
              "<table border=\"1\" class=\"dataframe\">\n",
              "  <thead>\n",
              "    <tr style=\"text-align: right;\">\n",
              "      <th></th>\n",
              "      <th>age</th>\n",
              "      <th>hypertension</th>\n",
              "      <th>heart_disease</th>\n",
              "      <th>ever_married</th>\n",
              "      <th>Residence_type</th>\n",
              "      <th>avg_glucose_level</th>\n",
              "      <th>bmi</th>\n",
              "      <th>stroke</th>\n",
              "    </tr>\n",
              "  </thead>\n",
              "  <tbody>\n",
              "    <tr>\n",
              "      <th>count</th>\n",
              "      <td>43400.000000</td>\n",
              "      <td>43400.000000</td>\n",
              "      <td>43400.000000</td>\n",
              "      <td>43400.000000</td>\n",
              "      <td>43400.000000</td>\n",
              "      <td>43400.000000</td>\n",
              "      <td>41938.000000</td>\n",
              "      <td>43400.000000</td>\n",
              "    </tr>\n",
              "    <tr>\n",
              "      <th>mean</th>\n",
              "      <td>42.217894</td>\n",
              "      <td>0.093571</td>\n",
              "      <td>0.047512</td>\n",
              "      <td>0.643733</td>\n",
              "      <td>0.501290</td>\n",
              "      <td>104.482750</td>\n",
              "      <td>28.605038</td>\n",
              "      <td>0.018041</td>\n",
              "    </tr>\n",
              "    <tr>\n",
              "      <th>std</th>\n",
              "      <td>22.519649</td>\n",
              "      <td>0.291235</td>\n",
              "      <td>0.212733</td>\n",
              "      <td>0.478901</td>\n",
              "      <td>0.500004</td>\n",
              "      <td>43.111751</td>\n",
              "      <td>7.770020</td>\n",
              "      <td>0.133103</td>\n",
              "    </tr>\n",
              "    <tr>\n",
              "      <th>min</th>\n",
              "      <td>0.080000</td>\n",
              "      <td>0.000000</td>\n",
              "      <td>0.000000</td>\n",
              "      <td>0.000000</td>\n",
              "      <td>0.000000</td>\n",
              "      <td>55.000000</td>\n",
              "      <td>10.100000</td>\n",
              "      <td>0.000000</td>\n",
              "    </tr>\n",
              "    <tr>\n",
              "      <th>25%</th>\n",
              "      <td>24.000000</td>\n",
              "      <td>0.000000</td>\n",
              "      <td>0.000000</td>\n",
              "      <td>0.000000</td>\n",
              "      <td>0.000000</td>\n",
              "      <td>77.540000</td>\n",
              "      <td>23.200000</td>\n",
              "      <td>0.000000</td>\n",
              "    </tr>\n",
              "    <tr>\n",
              "      <th>50%</th>\n",
              "      <td>44.000000</td>\n",
              "      <td>0.000000</td>\n",
              "      <td>0.000000</td>\n",
              "      <td>1.000000</td>\n",
              "      <td>1.000000</td>\n",
              "      <td>91.580000</td>\n",
              "      <td>27.700000</td>\n",
              "      <td>0.000000</td>\n",
              "    </tr>\n",
              "    <tr>\n",
              "      <th>75%</th>\n",
              "      <td>60.000000</td>\n",
              "      <td>0.000000</td>\n",
              "      <td>0.000000</td>\n",
              "      <td>1.000000</td>\n",
              "      <td>1.000000</td>\n",
              "      <td>112.070000</td>\n",
              "      <td>32.900000</td>\n",
              "      <td>0.000000</td>\n",
              "    </tr>\n",
              "    <tr>\n",
              "      <th>max</th>\n",
              "      <td>82.000000</td>\n",
              "      <td>1.000000</td>\n",
              "      <td>1.000000</td>\n",
              "      <td>1.000000</td>\n",
              "      <td>1.000000</td>\n",
              "      <td>291.050000</td>\n",
              "      <td>97.600000</td>\n",
              "      <td>1.000000</td>\n",
              "    </tr>\n",
              "  </tbody>\n",
              "</table>\n",
              "</div>\n",
              "      <button class=\"colab-df-convert\" onclick=\"convertToInteractive('df-6a91386c-432b-4474-9a8a-2e1d3ee9f73c')\"\n",
              "              title=\"Convert this dataframe to an interactive table.\"\n",
              "              style=\"display:none;\">\n",
              "        \n",
              "  <svg xmlns=\"http://www.w3.org/2000/svg\" height=\"24px\"viewBox=\"0 0 24 24\"\n",
              "       width=\"24px\">\n",
              "    <path d=\"M0 0h24v24H0V0z\" fill=\"none\"/>\n",
              "    <path d=\"M18.56 5.44l.94 2.06.94-2.06 2.06-.94-2.06-.94-.94-2.06-.94 2.06-2.06.94zm-11 1L8.5 8.5l.94-2.06 2.06-.94-2.06-.94L8.5 2.5l-.94 2.06-2.06.94zm10 10l.94 2.06.94-2.06 2.06-.94-2.06-.94-.94-2.06-.94 2.06-2.06.94z\"/><path d=\"M17.41 7.96l-1.37-1.37c-.4-.4-.92-.59-1.43-.59-.52 0-1.04.2-1.43.59L10.3 9.45l-7.72 7.72c-.78.78-.78 2.05 0 2.83L4 21.41c.39.39.9.59 1.41.59.51 0 1.02-.2 1.41-.59l7.78-7.78 2.81-2.81c.8-.78.8-2.07 0-2.86zM5.41 20L4 18.59l7.72-7.72 1.47 1.35L5.41 20z\"/>\n",
              "  </svg>\n",
              "      </button>\n",
              "      \n",
              "  <style>\n",
              "    .colab-df-container {\n",
              "      display:flex;\n",
              "      flex-wrap:wrap;\n",
              "      gap: 12px;\n",
              "    }\n",
              "\n",
              "    .colab-df-convert {\n",
              "      background-color: #E8F0FE;\n",
              "      border: none;\n",
              "      border-radius: 50%;\n",
              "      cursor: pointer;\n",
              "      display: none;\n",
              "      fill: #1967D2;\n",
              "      height: 32px;\n",
              "      padding: 0 0 0 0;\n",
              "      width: 32px;\n",
              "    }\n",
              "\n",
              "    .colab-df-convert:hover {\n",
              "      background-color: #E2EBFA;\n",
              "      box-shadow: 0px 1px 2px rgba(60, 64, 67, 0.3), 0px 1px 3px 1px rgba(60, 64, 67, 0.15);\n",
              "      fill: #174EA6;\n",
              "    }\n",
              "\n",
              "    [theme=dark] .colab-df-convert {\n",
              "      background-color: #3B4455;\n",
              "      fill: #D2E3FC;\n",
              "    }\n",
              "\n",
              "    [theme=dark] .colab-df-convert:hover {\n",
              "      background-color: #434B5C;\n",
              "      box-shadow: 0px 1px 3px 1px rgba(0, 0, 0, 0.15);\n",
              "      filter: drop-shadow(0px 1px 2px rgba(0, 0, 0, 0.3));\n",
              "      fill: #FFFFFF;\n",
              "    }\n",
              "  </style>\n",
              "\n",
              "      <script>\n",
              "        const buttonEl =\n",
              "          document.querySelector('#df-6a91386c-432b-4474-9a8a-2e1d3ee9f73c button.colab-df-convert');\n",
              "        buttonEl.style.display =\n",
              "          google.colab.kernel.accessAllowed ? 'block' : 'none';\n",
              "\n",
              "        async function convertToInteractive(key) {\n",
              "          const element = document.querySelector('#df-6a91386c-432b-4474-9a8a-2e1d3ee9f73c');\n",
              "          const dataTable =\n",
              "            await google.colab.kernel.invokeFunction('convertToInteractive',\n",
              "                                                     [key], {});\n",
              "          if (!dataTable) return;\n",
              "\n",
              "          const docLinkHtml = 'Like what you see? Visit the ' +\n",
              "            '<a target=\"_blank\" href=https://colab.research.google.com/notebooks/data_table.ipynb>data table notebook</a>'\n",
              "            + ' to learn more about interactive tables.';\n",
              "          element.innerHTML = '';\n",
              "          dataTable['output_type'] = 'display_data';\n",
              "          await google.colab.output.renderOutput(dataTable, element);\n",
              "          const docLink = document.createElement('div');\n",
              "          docLink.innerHTML = docLinkHtml;\n",
              "          element.appendChild(docLink);\n",
              "        }\n",
              "      </script>\n",
              "    </div>\n",
              "  </div>\n",
              "  "
            ]
          },
          "metadata": {},
          "execution_count": 331
        }
      ]
    },
    {
      "cell_type": "code",
      "source": [
        "dataset.info()"
      ],
      "metadata": {
        "colab": {
          "base_uri": "https://localhost:8080/"
        },
        "id": "NjoFm3H_tKk2",
        "outputId": "a69f3147-6240-48fa-f06e-a8435bb342cc"
      },
      "execution_count": 332,
      "outputs": [
        {
          "output_type": "stream",
          "name": "stdout",
          "text": [
            "<class 'pandas.core.frame.DataFrame'>\n",
            "RangeIndex: 43400 entries, 0 to 43399\n",
            "Data columns (total 8 columns):\n",
            " #   Column             Non-Null Count  Dtype  \n",
            "---  ------             --------------  -----  \n",
            " 0   age                43400 non-null  float64\n",
            " 1   hypertension       43400 non-null  int64  \n",
            " 2   heart_disease      43400 non-null  int64  \n",
            " 3   ever_married       43400 non-null  int64  \n",
            " 4   Residence_type     43400 non-null  int64  \n",
            " 5   avg_glucose_level  43400 non-null  float64\n",
            " 6   bmi                41938 non-null  float64\n",
            " 7   stroke             43400 non-null  int64  \n",
            "dtypes: float64(3), int64(5)\n",
            "memory usage: 2.6 MB\n"
          ]
        }
      ]
    },
    {
      "cell_type": "code",
      "source": [
        "# extraction of input and output from dataset for easy calculation\n",
        "# \"Outcome\" = output column\n",
        "# all other columns are input columns\n",
        "\n",
        "dataset_columns = dataset.columns.values.tolist()\n",
        "dataset_columns_number = len(dataset_columns)\n",
        "input_columns  = dataset_columns[: dataset_columns_number - 1] \n",
        "output_columns = dataset_columns[  dataset_columns_number - 1 :]\n",
        "\n",
        "input_columns,  output_columns"
      ],
      "metadata": {
        "id": "-LSqQ7z8O9Np",
        "colab": {
          "base_uri": "https://localhost:8080/"
        },
        "outputId": "6a96125d-04a4-43b0-d62a-be4179efcfef"
      },
      "execution_count": 333,
      "outputs": [
        {
          "output_type": "execute_result",
          "data": {
            "text/plain": [
              "(['age',\n",
              "  'hypertension',\n",
              "  'heart_disease',\n",
              "  'ever_married',\n",
              "  'Residence_type',\n",
              "  'avg_glucose_level',\n",
              "  'bmi'],\n",
              " ['stroke'])"
            ]
          },
          "metadata": {},
          "execution_count": 333
        }
      ]
    },
    {
      "cell_type": "code",
      "source": [
        "# build input matrix\n",
        "real_input  = dataset[input_columns].copy() \n",
        "real_input"
      ],
      "metadata": {
        "colab": {
          "base_uri": "https://localhost:8080/",
          "height": 424
        },
        "id": "nTQsmwA3Cjck",
        "outputId": "d21d206f-7560-4127-cb76-a060736869cf"
      },
      "execution_count": 334,
      "outputs": [
        {
          "output_type": "execute_result",
          "data": {
            "text/plain": [
              "        age  hypertension  heart_disease  ever_married  Residence_type  \\\n",
              "0       3.0             0              0             0               0   \n",
              "1      58.0             1              0             1               1   \n",
              "2       8.0             0              0             0               1   \n",
              "3      70.0             0              0             1               0   \n",
              "4      14.0             0              0             0               0   \n",
              "...     ...           ...            ...           ...             ...   \n",
              "43395  10.0             0              0             0               1   \n",
              "43396  56.0             0              0             1               1   \n",
              "43397  82.0             1              0             1               1   \n",
              "43398  40.0             0              0             1               1   \n",
              "43399  82.0             0              0             1               1   \n",
              "\n",
              "       avg_glucose_level   bmi  \n",
              "0                  95.12  18.0  \n",
              "1                  87.96  39.2  \n",
              "2                 110.89  17.6  \n",
              "3                  69.04  35.9  \n",
              "4                 161.28  19.1  \n",
              "...                  ...   ...  \n",
              "43395              58.64  20.4  \n",
              "43396             213.61  55.4  \n",
              "43397              91.94  28.9  \n",
              "43398              99.16  33.2  \n",
              "43399              79.48  20.6  \n",
              "\n",
              "[43400 rows x 7 columns]"
            ],
            "text/html": [
              "\n",
              "  <div id=\"df-661abd5c-023e-4a09-b14c-7917a41828b0\">\n",
              "    <div class=\"colab-df-container\">\n",
              "      <div>\n",
              "<style scoped>\n",
              "    .dataframe tbody tr th:only-of-type {\n",
              "        vertical-align: middle;\n",
              "    }\n",
              "\n",
              "    .dataframe tbody tr th {\n",
              "        vertical-align: top;\n",
              "    }\n",
              "\n",
              "    .dataframe thead th {\n",
              "        text-align: right;\n",
              "    }\n",
              "</style>\n",
              "<table border=\"1\" class=\"dataframe\">\n",
              "  <thead>\n",
              "    <tr style=\"text-align: right;\">\n",
              "      <th></th>\n",
              "      <th>age</th>\n",
              "      <th>hypertension</th>\n",
              "      <th>heart_disease</th>\n",
              "      <th>ever_married</th>\n",
              "      <th>Residence_type</th>\n",
              "      <th>avg_glucose_level</th>\n",
              "      <th>bmi</th>\n",
              "    </tr>\n",
              "  </thead>\n",
              "  <tbody>\n",
              "    <tr>\n",
              "      <th>0</th>\n",
              "      <td>3.0</td>\n",
              "      <td>0</td>\n",
              "      <td>0</td>\n",
              "      <td>0</td>\n",
              "      <td>0</td>\n",
              "      <td>95.12</td>\n",
              "      <td>18.0</td>\n",
              "    </tr>\n",
              "    <tr>\n",
              "      <th>1</th>\n",
              "      <td>58.0</td>\n",
              "      <td>1</td>\n",
              "      <td>0</td>\n",
              "      <td>1</td>\n",
              "      <td>1</td>\n",
              "      <td>87.96</td>\n",
              "      <td>39.2</td>\n",
              "    </tr>\n",
              "    <tr>\n",
              "      <th>2</th>\n",
              "      <td>8.0</td>\n",
              "      <td>0</td>\n",
              "      <td>0</td>\n",
              "      <td>0</td>\n",
              "      <td>1</td>\n",
              "      <td>110.89</td>\n",
              "      <td>17.6</td>\n",
              "    </tr>\n",
              "    <tr>\n",
              "      <th>3</th>\n",
              "      <td>70.0</td>\n",
              "      <td>0</td>\n",
              "      <td>0</td>\n",
              "      <td>1</td>\n",
              "      <td>0</td>\n",
              "      <td>69.04</td>\n",
              "      <td>35.9</td>\n",
              "    </tr>\n",
              "    <tr>\n",
              "      <th>4</th>\n",
              "      <td>14.0</td>\n",
              "      <td>0</td>\n",
              "      <td>0</td>\n",
              "      <td>0</td>\n",
              "      <td>0</td>\n",
              "      <td>161.28</td>\n",
              "      <td>19.1</td>\n",
              "    </tr>\n",
              "    <tr>\n",
              "      <th>...</th>\n",
              "      <td>...</td>\n",
              "      <td>...</td>\n",
              "      <td>...</td>\n",
              "      <td>...</td>\n",
              "      <td>...</td>\n",
              "      <td>...</td>\n",
              "      <td>...</td>\n",
              "    </tr>\n",
              "    <tr>\n",
              "      <th>43395</th>\n",
              "      <td>10.0</td>\n",
              "      <td>0</td>\n",
              "      <td>0</td>\n",
              "      <td>0</td>\n",
              "      <td>1</td>\n",
              "      <td>58.64</td>\n",
              "      <td>20.4</td>\n",
              "    </tr>\n",
              "    <tr>\n",
              "      <th>43396</th>\n",
              "      <td>56.0</td>\n",
              "      <td>0</td>\n",
              "      <td>0</td>\n",
              "      <td>1</td>\n",
              "      <td>1</td>\n",
              "      <td>213.61</td>\n",
              "      <td>55.4</td>\n",
              "    </tr>\n",
              "    <tr>\n",
              "      <th>43397</th>\n",
              "      <td>82.0</td>\n",
              "      <td>1</td>\n",
              "      <td>0</td>\n",
              "      <td>1</td>\n",
              "      <td>1</td>\n",
              "      <td>91.94</td>\n",
              "      <td>28.9</td>\n",
              "    </tr>\n",
              "    <tr>\n",
              "      <th>43398</th>\n",
              "      <td>40.0</td>\n",
              "      <td>0</td>\n",
              "      <td>0</td>\n",
              "      <td>1</td>\n",
              "      <td>1</td>\n",
              "      <td>99.16</td>\n",
              "      <td>33.2</td>\n",
              "    </tr>\n",
              "    <tr>\n",
              "      <th>43399</th>\n",
              "      <td>82.0</td>\n",
              "      <td>0</td>\n",
              "      <td>0</td>\n",
              "      <td>1</td>\n",
              "      <td>1</td>\n",
              "      <td>79.48</td>\n",
              "      <td>20.6</td>\n",
              "    </tr>\n",
              "  </tbody>\n",
              "</table>\n",
              "<p>43400 rows × 7 columns</p>\n",
              "</div>\n",
              "      <button class=\"colab-df-convert\" onclick=\"convertToInteractive('df-661abd5c-023e-4a09-b14c-7917a41828b0')\"\n",
              "              title=\"Convert this dataframe to an interactive table.\"\n",
              "              style=\"display:none;\">\n",
              "        \n",
              "  <svg xmlns=\"http://www.w3.org/2000/svg\" height=\"24px\"viewBox=\"0 0 24 24\"\n",
              "       width=\"24px\">\n",
              "    <path d=\"M0 0h24v24H0V0z\" fill=\"none\"/>\n",
              "    <path d=\"M18.56 5.44l.94 2.06.94-2.06 2.06-.94-2.06-.94-.94-2.06-.94 2.06-2.06.94zm-11 1L8.5 8.5l.94-2.06 2.06-.94-2.06-.94L8.5 2.5l-.94 2.06-2.06.94zm10 10l.94 2.06.94-2.06 2.06-.94-2.06-.94-.94-2.06-.94 2.06-2.06.94z\"/><path d=\"M17.41 7.96l-1.37-1.37c-.4-.4-.92-.59-1.43-.59-.52 0-1.04.2-1.43.59L10.3 9.45l-7.72 7.72c-.78.78-.78 2.05 0 2.83L4 21.41c.39.39.9.59 1.41.59.51 0 1.02-.2 1.41-.59l7.78-7.78 2.81-2.81c.8-.78.8-2.07 0-2.86zM5.41 20L4 18.59l7.72-7.72 1.47 1.35L5.41 20z\"/>\n",
              "  </svg>\n",
              "      </button>\n",
              "      \n",
              "  <style>\n",
              "    .colab-df-container {\n",
              "      display:flex;\n",
              "      flex-wrap:wrap;\n",
              "      gap: 12px;\n",
              "    }\n",
              "\n",
              "    .colab-df-convert {\n",
              "      background-color: #E8F0FE;\n",
              "      border: none;\n",
              "      border-radius: 50%;\n",
              "      cursor: pointer;\n",
              "      display: none;\n",
              "      fill: #1967D2;\n",
              "      height: 32px;\n",
              "      padding: 0 0 0 0;\n",
              "      width: 32px;\n",
              "    }\n",
              "\n",
              "    .colab-df-convert:hover {\n",
              "      background-color: #E2EBFA;\n",
              "      box-shadow: 0px 1px 2px rgba(60, 64, 67, 0.3), 0px 1px 3px 1px rgba(60, 64, 67, 0.15);\n",
              "      fill: #174EA6;\n",
              "    }\n",
              "\n",
              "    [theme=dark] .colab-df-convert {\n",
              "      background-color: #3B4455;\n",
              "      fill: #D2E3FC;\n",
              "    }\n",
              "\n",
              "    [theme=dark] .colab-df-convert:hover {\n",
              "      background-color: #434B5C;\n",
              "      box-shadow: 0px 1px 3px 1px rgba(0, 0, 0, 0.15);\n",
              "      filter: drop-shadow(0px 1px 2px rgba(0, 0, 0, 0.3));\n",
              "      fill: #FFFFFF;\n",
              "    }\n",
              "  </style>\n",
              "\n",
              "      <script>\n",
              "        const buttonEl =\n",
              "          document.querySelector('#df-661abd5c-023e-4a09-b14c-7917a41828b0 button.colab-df-convert');\n",
              "        buttonEl.style.display =\n",
              "          google.colab.kernel.accessAllowed ? 'block' : 'none';\n",
              "\n",
              "        async function convertToInteractive(key) {\n",
              "          const element = document.querySelector('#df-661abd5c-023e-4a09-b14c-7917a41828b0');\n",
              "          const dataTable =\n",
              "            await google.colab.kernel.invokeFunction('convertToInteractive',\n",
              "                                                     [key], {});\n",
              "          if (!dataTable) return;\n",
              "\n",
              "          const docLinkHtml = 'Like what you see? Visit the ' +\n",
              "            '<a target=\"_blank\" href=https://colab.research.google.com/notebooks/data_table.ipynb>data table notebook</a>'\n",
              "            + ' to learn more about interactive tables.';\n",
              "          element.innerHTML = '';\n",
              "          dataTable['output_type'] = 'display_data';\n",
              "          await google.colab.output.renderOutput(dataTable, element);\n",
              "          const docLink = document.createElement('div');\n",
              "          docLink.innerHTML = docLinkHtml;\n",
              "          element.appendChild(docLink);\n",
              "        }\n",
              "      </script>\n",
              "    </div>\n",
              "  </div>\n",
              "  "
            ]
          },
          "metadata": {},
          "execution_count": 334
        }
      ]
    },
    {
      "cell_type": "code",
      "source": [
        "# build output matrix\n",
        "real_output = dataset[output_columns].copy() \n",
        "real_output"
      ],
      "metadata": {
        "colab": {
          "base_uri": "https://localhost:8080/",
          "height": 424
        },
        "id": "q8tMpPt4DLX0",
        "outputId": "ac9f8396-563b-479f-b7eb-950c145299f2"
      },
      "execution_count": 335,
      "outputs": [
        {
          "output_type": "execute_result",
          "data": {
            "text/plain": [
              "       stroke\n",
              "0           0\n",
              "1           0\n",
              "2           0\n",
              "3           0\n",
              "4           0\n",
              "...       ...\n",
              "43395       0\n",
              "43396       0\n",
              "43397       0\n",
              "43398       0\n",
              "43399       0\n",
              "\n",
              "[43400 rows x 1 columns]"
            ],
            "text/html": [
              "\n",
              "  <div id=\"df-47964f91-05b9-40f7-990b-46015498863a\">\n",
              "    <div class=\"colab-df-container\">\n",
              "      <div>\n",
              "<style scoped>\n",
              "    .dataframe tbody tr th:only-of-type {\n",
              "        vertical-align: middle;\n",
              "    }\n",
              "\n",
              "    .dataframe tbody tr th {\n",
              "        vertical-align: top;\n",
              "    }\n",
              "\n",
              "    .dataframe thead th {\n",
              "        text-align: right;\n",
              "    }\n",
              "</style>\n",
              "<table border=\"1\" class=\"dataframe\">\n",
              "  <thead>\n",
              "    <tr style=\"text-align: right;\">\n",
              "      <th></th>\n",
              "      <th>stroke</th>\n",
              "    </tr>\n",
              "  </thead>\n",
              "  <tbody>\n",
              "    <tr>\n",
              "      <th>0</th>\n",
              "      <td>0</td>\n",
              "    </tr>\n",
              "    <tr>\n",
              "      <th>1</th>\n",
              "      <td>0</td>\n",
              "    </tr>\n",
              "    <tr>\n",
              "      <th>2</th>\n",
              "      <td>0</td>\n",
              "    </tr>\n",
              "    <tr>\n",
              "      <th>3</th>\n",
              "      <td>0</td>\n",
              "    </tr>\n",
              "    <tr>\n",
              "      <th>4</th>\n",
              "      <td>0</td>\n",
              "    </tr>\n",
              "    <tr>\n",
              "      <th>...</th>\n",
              "      <td>...</td>\n",
              "    </tr>\n",
              "    <tr>\n",
              "      <th>43395</th>\n",
              "      <td>0</td>\n",
              "    </tr>\n",
              "    <tr>\n",
              "      <th>43396</th>\n",
              "      <td>0</td>\n",
              "    </tr>\n",
              "    <tr>\n",
              "      <th>43397</th>\n",
              "      <td>0</td>\n",
              "    </tr>\n",
              "    <tr>\n",
              "      <th>43398</th>\n",
              "      <td>0</td>\n",
              "    </tr>\n",
              "    <tr>\n",
              "      <th>43399</th>\n",
              "      <td>0</td>\n",
              "    </tr>\n",
              "  </tbody>\n",
              "</table>\n",
              "<p>43400 rows × 1 columns</p>\n",
              "</div>\n",
              "      <button class=\"colab-df-convert\" onclick=\"convertToInteractive('df-47964f91-05b9-40f7-990b-46015498863a')\"\n",
              "              title=\"Convert this dataframe to an interactive table.\"\n",
              "              style=\"display:none;\">\n",
              "        \n",
              "  <svg xmlns=\"http://www.w3.org/2000/svg\" height=\"24px\"viewBox=\"0 0 24 24\"\n",
              "       width=\"24px\">\n",
              "    <path d=\"M0 0h24v24H0V0z\" fill=\"none\"/>\n",
              "    <path d=\"M18.56 5.44l.94 2.06.94-2.06 2.06-.94-2.06-.94-.94-2.06-.94 2.06-2.06.94zm-11 1L8.5 8.5l.94-2.06 2.06-.94-2.06-.94L8.5 2.5l-.94 2.06-2.06.94zm10 10l.94 2.06.94-2.06 2.06-.94-2.06-.94-.94-2.06-.94 2.06-2.06.94z\"/><path d=\"M17.41 7.96l-1.37-1.37c-.4-.4-.92-.59-1.43-.59-.52 0-1.04.2-1.43.59L10.3 9.45l-7.72 7.72c-.78.78-.78 2.05 0 2.83L4 21.41c.39.39.9.59 1.41.59.51 0 1.02-.2 1.41-.59l7.78-7.78 2.81-2.81c.8-.78.8-2.07 0-2.86zM5.41 20L4 18.59l7.72-7.72 1.47 1.35L5.41 20z\"/>\n",
              "  </svg>\n",
              "      </button>\n",
              "      \n",
              "  <style>\n",
              "    .colab-df-container {\n",
              "      display:flex;\n",
              "      flex-wrap:wrap;\n",
              "      gap: 12px;\n",
              "    }\n",
              "\n",
              "    .colab-df-convert {\n",
              "      background-color: #E8F0FE;\n",
              "      border: none;\n",
              "      border-radius: 50%;\n",
              "      cursor: pointer;\n",
              "      display: none;\n",
              "      fill: #1967D2;\n",
              "      height: 32px;\n",
              "      padding: 0 0 0 0;\n",
              "      width: 32px;\n",
              "    }\n",
              "\n",
              "    .colab-df-convert:hover {\n",
              "      background-color: #E2EBFA;\n",
              "      box-shadow: 0px 1px 2px rgba(60, 64, 67, 0.3), 0px 1px 3px 1px rgba(60, 64, 67, 0.15);\n",
              "      fill: #174EA6;\n",
              "    }\n",
              "\n",
              "    [theme=dark] .colab-df-convert {\n",
              "      background-color: #3B4455;\n",
              "      fill: #D2E3FC;\n",
              "    }\n",
              "\n",
              "    [theme=dark] .colab-df-convert:hover {\n",
              "      background-color: #434B5C;\n",
              "      box-shadow: 0px 1px 3px 1px rgba(0, 0, 0, 0.15);\n",
              "      filter: drop-shadow(0px 1px 2px rgba(0, 0, 0, 0.3));\n",
              "      fill: #FFFFFF;\n",
              "    }\n",
              "  </style>\n",
              "\n",
              "      <script>\n",
              "        const buttonEl =\n",
              "          document.querySelector('#df-47964f91-05b9-40f7-990b-46015498863a button.colab-df-convert');\n",
              "        buttonEl.style.display =\n",
              "          google.colab.kernel.accessAllowed ? 'block' : 'none';\n",
              "\n",
              "        async function convertToInteractive(key) {\n",
              "          const element = document.querySelector('#df-47964f91-05b9-40f7-990b-46015498863a');\n",
              "          const dataTable =\n",
              "            await google.colab.kernel.invokeFunction('convertToInteractive',\n",
              "                                                     [key], {});\n",
              "          if (!dataTable) return;\n",
              "\n",
              "          const docLinkHtml = 'Like what you see? Visit the ' +\n",
              "            '<a target=\"_blank\" href=https://colab.research.google.com/notebooks/data_table.ipynb>data table notebook</a>'\n",
              "            + ' to learn more about interactive tables.';\n",
              "          element.innerHTML = '';\n",
              "          dataTable['output_type'] = 'display_data';\n",
              "          await google.colab.output.renderOutput(dataTable, element);\n",
              "          const docLink = document.createElement('div');\n",
              "          docLink.innerHTML = docLinkHtml;\n",
              "          element.appendChild(docLink);\n",
              "        }\n",
              "      </script>\n",
              "    </div>\n",
              "  </div>\n",
              "  "
            ]
          },
          "metadata": {},
          "execution_count": 335
        }
      ]
    },
    {
      "cell_type": "code",
      "source": [
        "# outlier detection, data normalization for next several sessions"
      ],
      "metadata": {
        "id": "2Hp8mlSYDQWk"
      },
      "execution_count": 336,
      "outputs": []
    },
    {
      "cell_type": "code",
      "source": [
        "# histogram (data vs frequency)\n",
        "'''real_input.hist(figsize  = (25, 25), layout = ((real_input.columns.size+1)//2, 2), color='#BF86B4', bins = 20)'''\n",
        "real_input.hist(figsize = (25, 25), layout=(8,3), color='#BF86B4', bins = 20)"
      ],
      "metadata": {
        "colab": {
          "base_uri": "https://localhost:8080/",
          "height": 1000
        },
        "id": "FYtBzk34DTGO",
        "outputId": "45710fe0-2f54-4ffb-cf67-f58224935fa5"
      },
      "execution_count": 337,
      "outputs": [
        {
          "output_type": "execute_result",
          "data": {
            "text/plain": [
              "array([[<matplotlib.axes._subplots.AxesSubplot object at 0x7f1b20eccf50>,\n",
              "        <matplotlib.axes._subplots.AxesSubplot object at 0x7f1b20f05650>,\n",
              "        <matplotlib.axes._subplots.AxesSubplot object at 0x7f1b20eb5c50>],\n",
              "       [<matplotlib.axes._subplots.AxesSubplot object at 0x7f1b20f5e650>,\n",
              "        <matplotlib.axes._subplots.AxesSubplot object at 0x7f1b20e19b90>,\n",
              "        <matplotlib.axes._subplots.AxesSubplot object at 0x7f1b20dd91d0>],\n",
              "       [<matplotlib.axes._subplots.AxesSubplot object at 0x7f1b20d8c850>,\n",
              "        <matplotlib.axes._subplots.AxesSubplot object at 0x7f1b20dbfd90>,\n",
              "        <matplotlib.axes._subplots.AxesSubplot object at 0x7f1b20dbfdd0>],\n",
              "       [<matplotlib.axes._subplots.AxesSubplot object at 0x7f1b20d80510>,\n",
              "        <matplotlib.axes._subplots.AxesSubplot object at 0x7f1b20ce9fd0>,\n",
              "        <matplotlib.axes._subplots.AxesSubplot object at 0x7f1b20ca8650>],\n",
              "       [<matplotlib.axes._subplots.AxesSubplot object at 0x7f1b20c5dc50>,\n",
              "        <matplotlib.axes._subplots.AxesSubplot object at 0x7f1b20c1e290>,\n",
              "        <matplotlib.axes._subplots.AxesSubplot object at 0x7f1b20bd1890>],\n",
              "       [<matplotlib.axes._subplots.AxesSubplot object at 0x7f1b20c04e90>,\n",
              "        <matplotlib.axes._subplots.AxesSubplot object at 0x7f1b20bc54d0>,\n",
              "        <matplotlib.axes._subplots.AxesSubplot object at 0x7f1b20b7bad0>],\n",
              "       [<matplotlib.axes._subplots.AxesSubplot object at 0x7f1b20b3b110>,\n",
              "        <matplotlib.axes._subplots.AxesSubplot object at 0x7f1b20aed710>,\n",
              "        <matplotlib.axes._subplots.AxesSubplot object at 0x7f1b20aa1d10>],\n",
              "       [<matplotlib.axes._subplots.AxesSubplot object at 0x7f1b20a62350>,\n",
              "        <matplotlib.axes._subplots.AxesSubplot object at 0x7f1b20a14950>,\n",
              "        <matplotlib.axes._subplots.AxesSubplot object at 0x7f1b209c9f50>]],\n",
              "      dtype=object)"
            ]
          },
          "metadata": {},
          "execution_count": 337
        },
        {
          "output_type": "display_data",
          "data": {
            "text/plain": [
              "<Figure size 1800x1800 with 24 Axes>"
            ],
            "image/png": "[encoded data removed]"
          },
          "metadata": {
            "needs_background": "light"
          }
        }
      ]
    },
    {
      "cell_type": "code",
      "source": [
        "# boxplot.\n",
        "# boxplot will tell us about outlier data and many more but to know about outlier data \n",
        "# boxplot is great.\n",
        "# to know more about boxplot please visit the link below - \n",
        "# https://towardsdatascience.com/understanding-boxplots-5e2df7bcbd51\n",
        "real_input.boxplot(figsize = (30, 20))"
      ],
      "metadata": {
        "colab": {
          "base_uri": "https://localhost:8080/",
          "height": 1000
        },
        "id": "Y1xX2qoUDVWV",
        "outputId": "9aed92cc-e1ca-48ea-fdf8-2632993cb550"
      },
      "execution_count": 338,
      "outputs": [
        {
          "output_type": "stream",
          "name": "stderr",
          "text": [
            "/usr/local/lib/python3.7/dist-packages/matplotlib/cbook/__init__.py:1376: VisibleDeprecationWarning: Creating an ndarray from ragged nested sequences (which is a list-or-tuple of lists-or-tuples-or ndarrays with different lengths or shapes) is deprecated. If you meant to do this, you must specify 'dtype=object' when creating the ndarray.\n",
            "  X = np.atleast_1d(X.T if isinstance(X, np.ndarray) else np.asarray(X))\n"
          ]
        },
        {
          "output_type": "execute_result",
          "data": {
            "text/plain": [
              "<matplotlib.axes._subplots.AxesSubplot at 0x7f1b205db4d0>"
            ]
          },
          "metadata": {},
          "execution_count": 338
        },
        {
          "output_type": "display_data",
          "data": {
            "text/plain": [
              "<Figure size 2160x1440 with 1 Axes>"
            ],
            "image/png": "[encoded data removed]"
          },
          "metadata": {
            "needs_background": "light"
          }
        }
      ]
    },
    {
      "cell_type": "code",
      "source": [
        "features = real_input.columns.values.tolist()\n",
        "features"
      ],
      "metadata": {
        "colab": {
          "base_uri": "https://localhost:8080/"
        },
        "id": "V64m_arcDade",
        "outputId": "b9edc24d-cde5-4f46-c50c-7b6bd257ed8b"
      },
      "execution_count": 339,
      "outputs": [
        {
          "output_type": "execute_result",
          "data": {
            "text/plain": [
              "['age',\n",
              " 'hypertension',\n",
              " 'heart_disease',\n",
              " 'ever_married',\n",
              " 'Residence_type',\n",
              " 'avg_glucose_level',\n",
              " 'bmi']"
            ]
          },
          "metadata": {},
          "execution_count": 339
        }
      ]
    },
    {
      "cell_type": "code",
      "source": [
        "# outlier detection\n",
        "j = 0\n",
        "feature = features[j]\n",
        "real_input[feature].hist(figsize = (10, 5), bins = 20)"
      ],
      "metadata": {
        "colab": {
          "base_uri": "https://localhost:8080/",
          "height": 339
        },
        "id": "yNhyiIomDn8r",
        "outputId": "8ac9a2ca-da43-4eea-dfa8-60f4c0814ceb"
      },
      "execution_count": 340,
      "outputs": [
        {
          "output_type": "execute_result",
          "data": {
            "text/plain": [
              "<matplotlib.axes._subplots.AxesSubplot at 0x7f1b20460d90>"
            ]
          },
          "metadata": {},
          "execution_count": 340
        },
        {
          "output_type": "display_data",
          "data": {
            "text/plain": [
              "<Figure size 720x360 with 1 Axes>"
            ],
            "image/png": "[encoded data removed]"
          },
          "metadata": {
            "needs_background": "light"
          }
        }
      ]
    },
    {
      "cell_type": "code",
      "source": [
        "real_input.boxplot(column = feature, figsize = (10, 10))"
      ],
      "metadata": {
        "colab": {
          "base_uri": "https://localhost:8080/",
          "height": 611
        },
        "id": "IjQZWS9ZHIZj",
        "outputId": "e66d111e-e2c7-4c3d-8bbf-ac9330f29f2a"
      },
      "execution_count": 341,
      "outputs": [
        {
          "output_type": "execute_result",
          "data": {
            "text/plain": [
              "<matplotlib.axes._subplots.AxesSubplot at 0x7f1b205f5450>"
            ]
          },
          "metadata": {},
          "execution_count": 341
        },
        {
          "output_type": "display_data",
          "data": {
            "text/plain": [
              "<Figure size 720x720 with 1 Axes>"
            ],
            "image/png": "[encoded data removed]"
          },
          "metadata": {
            "needs_background": "light"
          }
        }
      ]
    },
    {
      "cell_type": "code",
      "metadata": {
        "id": "rE643FU9wRph"
      },
      "source": [
        "'''\n",
        "For feature \"age\",\n",
        "outliers found in both histogram and boxplot\n",
        "Set \"ap_hi\" < 100 = 100 and \"ap_hi\" > 170 = 170 \n",
        "'''\n",
        "\n",
        "\n",
        "#real_input[feature] = real_input[feature].mask(real_input[feature] < 100., other = 100.)\n",
        "\n",
        "# No-Cardiovascular total sum\n",
        "total_sum_no_cardiovascular = np.sum(real_input[feature][(real_input[feature] >= 20) &\\\n",
        "                                                         (real_input[feature] <= 70) &\\\n",
        "                                                         (real_output[\"stroke\"] == 0)])\n",
        "# No-Cardiovascular zero_len\n",
        "zero_len_no_cardiovascular = real_input[feature][(real_input[feature] < 12) &\\\n",
        "                                           (real_output[\"stroke\"] == 0) &\\\n",
        "                                           (real_input[feature] > 18)].size\n",
        "# No-Cardiovascular dataset size\n",
        "dataset_len_no_cardiovascular = real_output[(real_output[\"stroke\"] == 0)].size\n",
        "# No-Cardiovascular mean value\n",
        "mean_value_no_cardiovascular = total_sum_no_cardiovascular / (dataset_len_no_cardiovascular\\\n",
        "                                                  - zero_len_no_cardiovascular)\n",
        "\n",
        "# Cardiovascular total sum\n",
        "total_sum_cardiovascular = np.sum(real_input[feature][(real_input[feature] >= 12) &\\\n",
        "                                                      (real_input[feature] <= 18) &\\\n",
        "                                                      (real_output[\"stroke\"] == 1)])\n",
        "# Cardiovascular zero_len\n",
        "zero_len_cardiovascular = real_input[feature][(real_input[feature] < 12) &\\\n",
        "                                        (real_output[\"stroke\"] == 1) &\\\n",
        "                                        (real_input[feature]) > 18].size\n",
        "# Cardiovascular dataset size\n",
        "dataset_len_cardiovascular = real_output[(real_output[\"stroke\"] == 1)].size\n",
        "# Cardiovascular mean value\n",
        "mean_value_cardiovascular = total_sum_cardiovascular / (dataset_len_cardiovascular\\\n",
        "                                                  - zero_len_cardiovascular)\n",
        "\n",
        "\n",
        "# No-Cardiovascular\n",
        "real_input[feature] = real_input[feature].mask(((real_input[feature] < 12)|(real_input[feature] > 18))&\\\n",
        "                                               (real_output[\"stroke\"] == 0),\\\n",
        "                                               other = mean_value_no_cardiovascular)\n",
        "# Cardiovascular\n",
        "real_input[feature] = real_input[feature].mask(((real_input[feature] < 12)|(real_input[feature] > 18))&\\\n",
        "                                               (real_output[\"stroke\"] == 1),\\\n",
        "                                               other = mean_value_cardiovascular)"
      ],
      "execution_count": 342,
      "outputs": []
    },
    {
      "cell_type": "code",
      "source": [
        "print(\"feature\", feature, \"details =\")\n",
        "real_input[feature].describe()"
      ],
      "metadata": {
        "colab": {
          "base_uri": "https://localhost:8080/"
        },
        "id": "LavX87LEHQ3N",
        "outputId": "a8b516a3-f913-4bfd-deeb-79427deb3385"
      },
      "execution_count": 343,
      "outputs": [
        {
          "output_type": "stream",
          "name": "stdout",
          "text": [
            "feature age details =\n"
          ]
        },
        {
          "output_type": "execute_result",
          "data": {
            "text/plain": [
              "count    43400.000000\n",
              "mean        29.346553\n",
              "std          5.736915\n",
              "min          0.017880\n",
              "25%         31.046812\n",
              "50%         31.046812\n",
              "75%         31.046812\n",
              "max         31.046812\n",
              "Name: age, dtype: float64"
            ]
          },
          "metadata": {},
          "execution_count": 343
        }
      ]
    },
    {
      "cell_type": "code",
      "source": [
        "'''\n",
        "Feature \"age\" is now well distributed\n",
        "'''\n",
        "real_input[feature].hist(figsize = (10, 5), bins = 20)"
      ],
      "metadata": {
        "colab": {
          "base_uri": "https://localhost:8080/",
          "height": 339
        },
        "id": "bia0VbOHP3m7",
        "outputId": "7e1a07fd-b4a4-4e81-eb9d-7a256c77a67c"
      },
      "execution_count": 344,
      "outputs": [
        {
          "output_type": "execute_result",
          "data": {
            "text/plain": [
              "<matplotlib.axes._subplots.AxesSubplot at 0x7f1b204d2910>"
            ]
          },
          "metadata": {},
          "execution_count": 344
        },
        {
          "output_type": "display_data",
          "data": {
            "text/plain": [
              "<Figure size 720x360 with 1 Axes>"
            ],
            "image/png": "[encoded data removed]"
          },
          "metadata": {
            "needs_background": "light"
          }
        }
      ]
    },
    {
      "cell_type": "code",
      "source": [
        "real_input.boxplot(column = feature, figsize = (10, 5))"
      ],
      "metadata": {
        "colab": {
          "base_uri": "https://localhost:8080/",
          "height": 339
        },
        "id": "ZcaLEpueP4RV",
        "outputId": "8c31d239-7f0b-45aa-9eca-e84a11fe0fed"
      },
      "execution_count": 345,
      "outputs": [
        {
          "output_type": "execute_result",
          "data": {
            "text/plain": [
              "<matplotlib.axes._subplots.AxesSubplot at 0x7f1b200ce5d0>"
            ]
          },
          "metadata": {},
          "execution_count": 345
        },
        {
          "output_type": "display_data",
          "data": {
            "text/plain": [
              "<Figure size 720x360 with 1 Axes>"
            ],
            "image/png": "[encoded data removed]"
          },
          "metadata": {
            "needs_background": "light"
          }
        }
      ]
    },
    {
      "cell_type": "code",
      "source": [
        "j += 1\n",
        "feature = features[j]\n",
        "real_input[feature].hist(figsize = (10, 10), bins = 10)"
      ],
      "metadata": {
        "colab": {
          "base_uri": "https://localhost:8080/",
          "height": 611
        },
        "id": "F4QAzBnpP9it",
        "outputId": "5c07a446-1ab3-4d56-edeb-105d15d183fa"
      },
      "execution_count": 346,
      "outputs": [
        {
          "output_type": "execute_result",
          "data": {
            "text/plain": [
              "<matplotlib.axes._subplots.AxesSubplot at 0x7f1b20079090>"
            ]
          },
          "metadata": {},
          "execution_count": 346
        },
        {
          "output_type": "display_data",
          "data": {
            "text/plain": [
              "<Figure size 720x720 with 1 Axes>"
            ],
            "image/png": "[encoded data removed]"
          },
          "metadata": {
            "needs_background": "light"
          }
        }
      ]
    },
    {
      "cell_type": "code",
      "source": [
        "real_input.boxplot(column = feature, figsize = (10, 5))"
      ],
      "metadata": {
        "colab": {
          "base_uri": "https://localhost:8080/",
          "height": 339
        },
        "id": "9dx41rCLQAyQ",
        "outputId": "3261225b-7097-440c-9cbf-705b25c0322f"
      },
      "execution_count": 347,
      "outputs": [
        {
          "output_type": "execute_result",
          "data": {
            "text/plain": [
              "<matplotlib.axes._subplots.AxesSubplot at 0x7f1b1ffd4e50>"
            ]
          },
          "metadata": {},
          "execution_count": 347
        },
        {
          "output_type": "display_data",
          "data": {
            "text/plain": [
              "<Figure size 720x360 with 1 Axes>"
            ],
            "image/png": "[encoded data removed]"
          },
          "metadata": {
            "needs_background": "light"
          }
        }
      ]
    },
    {
      "cell_type": "code",
      "metadata": {
        "id": "bSu_HmraieFz"
      },
      "source": [
        "'''\n",
        "For feature \"hypertension\",\n",
        "outliers found in both histogram and boxplot\n",
        "Set \"ap_hi\" < 100 = 100 and \"ap_hi\" > 170 = 170 \n",
        "'''\n",
        "\n",
        "\n",
        "#real_input[feature] = real_input[feature].mask(real_input[feature] < 100., other = 100.)\n",
        "\n",
        "# No-Cardiovascular total sum\n",
        "total_sum_no_cardiovascular = np.sum(real_input[feature][(real_input[feature] >= 0.0) &\\\n",
        "                                                         (real_input[feature] <= 0.2) &\\\n",
        "                                                         (real_output[\"stroke\"] == 0)])\n",
        "# No-Cardiovascular zero_len\n",
        "zero_len_no_cardiovascular = real_input[feature][(real_input[feature] < 15) &\\\n",
        "                                           (real_output[\"stroke\"] == 0) &\\\n",
        "                                           (real_input[feature] > 22)].size\n",
        "# No-Cardiovascular dataset size\n",
        "dataset_len_no_cardiovascular = real_output[(real_output[\"stroke\"] == 0)].size\n",
        "# No-Cardiovascular mean value\n",
        "mean_value_no_cardiovascular = total_sum_no_cardiovascular / (dataset_len_no_cardiovascular\\\n",
        "                                                  - zero_len_no_cardiovascular)\n",
        "\n",
        "# Cardiovascular total sum\n",
        "total_sum_cardiovascular = np.sum(real_input[feature][(real_input[feature] >= 15) &\\\n",
        "                                                      (real_input[feature] <= 22) &\\\n",
        "                                                      (real_output[\"stroke\"] == 1)])\n",
        "# Cardiovascular zero_len\n",
        "zero_len_cardiovascular = real_input[feature][(real_input[feature] < 15) &\\\n",
        "                                        (real_output[\"stroke\"] == 1) &\\\n",
        "                                        (real_input[feature]) > 22].size\n",
        "# Cardiovascular dataset size\n",
        "dataset_len_cardiovascular = real_output[(real_output[\"stroke\"] == 1)].size\n",
        "# Cardiovascular mean value\n",
        "mean_value_cardiovascular = total_sum_cardiovascular / (dataset_len_cardiovascular\\\n",
        "                                                  - zero_len_cardiovascular)\n",
        "\n",
        "\n",
        "# No-Cardiovascular\n",
        "real_input[feature] = real_input[feature].mask(((real_input[feature] < 15)|(real_input[feature] > 22))&\\\n",
        "                                               (real_output[\"stroke\"] == 0),\\\n",
        "                                               other = mean_value_no_cardiovascular)\n",
        "# Cardiovascular\n",
        "real_input[feature] = real_input[feature].mask(((real_input[feature] < 15)|(real_input[feature] > 22))&\\\n",
        "                                               (real_output[\"stroke\"] == 1),\\\n",
        "                                               other = mean_value_cardiovascular)"
      ],
      "execution_count": 348,
      "outputs": []
    },
    {
      "cell_type": "code",
      "source": [
        "print(\"feature\", feature, \"details =\")\n",
        "real_input[feature].describe()"
      ],
      "metadata": {
        "colab": {
          "base_uri": "https://localhost:8080/"
        },
        "id": "2gFZISlrQRoB",
        "outputId": "e588fc0b-ae53-4f79-9926-8125582436ff"
      },
      "execution_count": 349,
      "outputs": [
        {
          "output_type": "stream",
          "name": "stdout",
          "text": [
            "feature hypertension details =\n"
          ]
        },
        {
          "output_type": "execute_result",
          "data": {
            "text/plain": [
              "count    43400.0\n",
              "mean         0.0\n",
              "std          0.0\n",
              "min          0.0\n",
              "25%          0.0\n",
              "50%          0.0\n",
              "75%          0.0\n",
              "max          0.0\n",
              "Name: hypertension, dtype: float64"
            ]
          },
          "metadata": {},
          "execution_count": 349
        }
      ]
    },
    {
      "cell_type": "code",
      "source": [
        "'''\n",
        "feature \"hypertension\" is not well distributed. \n",
        "'''\n",
        "real_input[feature].hist(figsize = (10, 5), bins = 20)"
      ],
      "metadata": {
        "colab": {
          "base_uri": "https://localhost:8080/",
          "height": 339
        },
        "id": "oLzLZH0GQV-S",
        "outputId": "a7820ebb-373c-446c-e533-a25fa874aedb"
      },
      "execution_count": 350,
      "outputs": [
        {
          "output_type": "execute_result",
          "data": {
            "text/plain": [
              "<matplotlib.axes._subplots.AxesSubplot at 0x7f1b1ff60b50>"
            ]
          },
          "metadata": {},
          "execution_count": 350
        },
        {
          "output_type": "display_data",
          "data": {
            "text/plain": [
              "<Figure size 720x360 with 1 Axes>"
            ],
            "image/png": "[encoded data removed]"
          },
          "metadata": {
            "needs_background": "light"
          }
        }
      ]
    },
    {
      "cell_type": "code",
      "source": [
        "real_input.boxplot(column = feature, figsize = (10, 5))"
      ],
      "metadata": {
        "colab": {
          "base_uri": "https://localhost:8080/",
          "height": 339
        },
        "id": "8ng9bfV2QWc3",
        "outputId": "b85adb5e-4345-4e08-ac84-f47adaa84ebc"
      },
      "execution_count": 351,
      "outputs": [
        {
          "output_type": "execute_result",
          "data": {
            "text/plain": [
              "<matplotlib.axes._subplots.AxesSubplot at 0x7f1b1ff153d0>"
            ]
          },
          "metadata": {},
          "execution_count": 351
        },
        {
          "output_type": "display_data",
          "data": {
            "text/plain": [
              "<Figure size 720x360 with 1 Axes>"
            ],
            "image/png": "[encoded data removed]"
          },
          "metadata": {
            "needs_background": "light"
          }
        }
      ]
    },
    {
      "cell_type": "code",
      "source": [
        "j += 1\n",
        "feature = features[j]\n",
        "real_input[feature].hist(figsize = (10, 5), bins = 20)"
      ],
      "metadata": {
        "colab": {
          "base_uri": "https://localhost:8080/",
          "height": 339
        },
        "id": "XMRAD3o8Qbm4",
        "outputId": "dd1dcee8-eab9-4699-cc29-bd249d78b047"
      },
      "execution_count": 352,
      "outputs": [
        {
          "output_type": "execute_result",
          "data": {
            "text/plain": [
              "<matplotlib.axes._subplots.AxesSubplot at 0x7f1b1fe5d690>"
            ]
          },
          "metadata": {},
          "execution_count": 352
        },
        {
          "output_type": "display_data",
          "data": {
            "text/plain": [
              "<Figure size 720x360 with 1 Axes>"
            ],
            "image/png": "[encoded data removed]"
          },
          "metadata": {
            "needs_background": "light"
          }
        }
      ]
    },
    {
      "cell_type": "code",
      "source": [
        "real_input.boxplot(column = feature, figsize = (10, 10))"
      ],
      "metadata": {
        "colab": {
          "base_uri": "https://localhost:8080/",
          "height": 611
        },
        "id": "bYPFqrRfQcFs",
        "outputId": "c0fa16d0-aa2e-4775-f2a3-15b3556be1c3"
      },
      "execution_count": 353,
      "outputs": [
        {
          "output_type": "execute_result",
          "data": {
            "text/plain": [
              "<matplotlib.axes._subplots.AxesSubplot at 0x7f1b1fe1e890>"
            ]
          },
          "metadata": {},
          "execution_count": 353
        },
        {
          "output_type": "display_data",
          "data": {
            "text/plain": [
              "<Figure size 720x720 with 1 Axes>"
            ],
            "image/png": "[encoded data removed]"
          },
          "metadata": {
            "needs_background": "light"
          }
        }
      ]
    },
    {
      "cell_type": "code",
      "source": [
        "'''\n",
        "For feature \"heart_disease\",\n",
        "outliers found in both histogram and boxplot\n",
        "Set \"ap_hi\" < 100 = 100 and \"ap_hi\" > 170 = 170 \n",
        "'''\n",
        "\n",
        "\n",
        "#real_input[feature] = real_input[feature].mask(real_input[feature] < 100., other = 100.)\n",
        "\n",
        "# No-Cardiovascular total sum\n",
        "total_sum_no_cardiovascular = np.sum(real_input[feature][(real_input[feature] >= 0.0) &\\\n",
        "                                                         (real_input[feature] <= 0.1) &\\\n",
        "                                                         (real_output[\"stroke\"] == 0)])\n",
        "# No-Cardiovascular zero_len\n",
        "zero_len_no_cardiovascular = real_input[feature][(real_input[feature] < 70) &\\\n",
        "                                           (real_output[\"stroke\"] == 0) &\\\n",
        "                                           (real_input[feature] > 110)].size\n",
        "# No-Cardiovascular dataset size\n",
        "dataset_len_no_cardiovascular = real_output[(real_output[\"stroke\"] == 0)].size\n",
        "# No-Cardiovascular mean value\n",
        "mean_value_no_cardiovascular = total_sum_no_cardiovascular / (dataset_len_no_cardiovascular\\\n",
        "                                                  - zero_len_no_cardiovascular)\n",
        "\n",
        "# Cardiovascular total sum\n",
        "total_sum_cardiovascular = np.sum(real_input[feature][(real_input[feature] >= 70) &\\\n",
        "                                                      (real_input[feature] <= 110) &\\\n",
        "                                                      (real_output[\"stroke\"] == 1)])\n",
        "# Cardiovascular zero_len\n",
        "zero_len_cardiovascular = real_input[feature][(real_input[feature] < 70) &\\\n",
        "                                        (real_output[\"stroke\"] == 1) &\\\n",
        "                                        (real_input[feature]) > 110].size\n",
        "# Cardiovascular dataset size\n",
        "dataset_len_cardiovascular = real_output[(real_output[\"stroke\"] == 1)].size\n",
        "# Cardiovascular mean value\n",
        "mean_value_cardiovascular = total_sum_cardiovascular / (dataset_len_cardiovascular\\\n",
        "                                                  - zero_len_cardiovascular)\n",
        "\n",
        "\n",
        "# No-Cardiovascular\n",
        "real_input[feature] = real_input[feature].mask(((real_input[feature] < 70)|(real_input[feature] > 110))&\\\n",
        "                                               (real_output[\"stroke\"] == 0),\\\n",
        "                                               other = mean_value_no_cardiovascular)\n",
        "# Cardiovascular\n",
        "real_input[feature] = real_input[feature].mask(((real_input[feature] < 70)|(real_input[feature] > 110))&\\\n",
        "                                               (real_output[\"stroke\"] == 1),\\\n",
        "                                               other = mean_value_cardiovascular)"
      ],
      "metadata": {
        "id": "y7ZdTte4QiMg"
      },
      "execution_count": 354,
      "outputs": []
    },
    {
      "cell_type": "code",
      "source": [
        "print(\"feature\", feature, \"details =\")\n",
        "real_input[feature].describe()"
      ],
      "metadata": {
        "colab": {
          "base_uri": "https://localhost:8080/"
        },
        "id": "jCFt7ckNQxaA",
        "outputId": "61cca98b-55ea-4570-ae29-0d465420beb2"
      },
      "execution_count": 355,
      "outputs": [
        {
          "output_type": "stream",
          "name": "stdout",
          "text": [
            "feature heart_disease details =\n"
          ]
        },
        {
          "output_type": "execute_result",
          "data": {
            "text/plain": [
              "count    43400.0\n",
              "mean         0.0\n",
              "std          0.0\n",
              "min          0.0\n",
              "25%          0.0\n",
              "50%          0.0\n",
              "75%          0.0\n",
              "max          0.0\n",
              "Name: heart_disease, dtype: float64"
            ]
          },
          "metadata": {},
          "execution_count": 355
        }
      ]
    },
    {
      "cell_type": "code",
      "source": [
        "real_input[feature].hist(figsize = (10, 5), bins = 20)"
      ],
      "metadata": {
        "colab": {
          "base_uri": "https://localhost:8080/",
          "height": 339
        },
        "id": "biA1GzWcQx2z",
        "outputId": "a9822581-4bb1-47a1-d796-a3fcd53c45a0"
      },
      "execution_count": 356,
      "outputs": [
        {
          "output_type": "execute_result",
          "data": {
            "text/plain": [
              "<matplotlib.axes._subplots.AxesSubplot at 0x7f1b1fd4c550>"
            ]
          },
          "metadata": {},
          "execution_count": 356
        },
        {
          "output_type": "display_data",
          "data": {
            "text/plain": [
              "<Figure size 720x360 with 1 Axes>"
            ],
            "image/png": "[encoded data removed]"
          },
          "metadata": {
            "needs_background": "light"
          }
        }
      ]
    },
    {
      "cell_type": "code",
      "source": [
        "real_input.boxplot(column = feature, figsize = (10, 5))"
      ],
      "metadata": {
        "colab": {
          "base_uri": "https://localhost:8080/",
          "height": 340
        },
        "id": "iVtHwINLQ0sr",
        "outputId": "5e70b5da-9036-45ce-9ef3-d342c32a1561"
      },
      "execution_count": 357,
      "outputs": [
        {
          "output_type": "execute_result",
          "data": {
            "text/plain": [
              "<matplotlib.axes._subplots.AxesSubplot at 0x7f1b1fcd8c90>"
            ]
          },
          "metadata": {},
          "execution_count": 357
        },
        {
          "output_type": "display_data",
          "data": {
            "text/plain": [
              "<Figure size 720x360 with 1 Axes>"
            ],
            "image/png": "[encoded data removed]"
          },
          "metadata": {
            "needs_background": "light"
          }
        }
      ]
    },
    {
      "cell_type": "code",
      "source": [
        "j += 1\n",
        "feature = features[j]\n",
        "real_input[feature].hist(figsize = (10, 5), bins = 20)"
      ],
      "metadata": {
        "colab": {
          "base_uri": "https://localhost:8080/",
          "height": 339
        },
        "id": "PxeeQ1l5Q3TZ",
        "outputId": "06d3551b-97df-4bf9-b369-df88d06dd4b2"
      },
      "execution_count": 358,
      "outputs": [
        {
          "output_type": "execute_result",
          "data": {
            "text/plain": [
              "<matplotlib.axes._subplots.AxesSubplot at 0x7f1b1fc5ce50>"
            ]
          },
          "metadata": {},
          "execution_count": 358
        },
        {
          "output_type": "display_data",
          "data": {
            "text/plain": [
              "<Figure size 720x360 with 1 Axes>"
            ],
            "image/png": "[encoded data removed]"
          },
          "metadata": {
            "needs_background": "light"
          }
        }
      ]
    },
    {
      "cell_type": "code",
      "source": [
        "real_input.boxplot(column = feature, figsize = (10, 5))"
      ],
      "metadata": {
        "colab": {
          "base_uri": "https://localhost:8080/",
          "height": 340
        },
        "id": "cZBFf4drQ7la",
        "outputId": "9663b282-1db8-486e-9667-0e014bbb0c9a"
      },
      "execution_count": 359,
      "outputs": [
        {
          "output_type": "execute_result",
          "data": {
            "text/plain": [
              "<matplotlib.axes._subplots.AxesSubplot at 0x7f1b1fc29c90>"
            ]
          },
          "metadata": {},
          "execution_count": 359
        },
        {
          "output_type": "display_data",
          "data": {
            "text/plain": [
              "<Figure size 720x360 with 1 Axes>"
            ],
            "image/png": "[encoded data removed]"
          },
          "metadata": {
            "needs_background": "light"
          }
        }
      ]
    },
    {
      "cell_type": "code",
      "source": [
        "'''\n",
        "For feature \"ever_married\",\n",
        "outliers found in both histogram and boxplot\n",
        "Set \"ap_hi\" < 100 = 100 and \"ap_hi\" > 170 = 170 \n",
        "'''\n",
        "\n",
        "\n",
        "#real_input[feature] = real_input[feature].mask(real_input[feature] < 100., other = 100.)\n",
        "\n",
        "# No-Cardiovascular total sum\n",
        "total_sum_no_cardiovascular = np.sum(real_input[feature][(real_input[feature] >= 0.0) &\\\n",
        "                                                         (real_input[feature] <= 1.5) &\\\n",
        "                                                         (real_output[\"stroke\"] == 0)])\n",
        "# No-Cardiovascular zero_len\n",
        "zero_len_no_cardiovascular = real_input[feature][(real_input[feature] < 470) &\\\n",
        "                                           (real_output[\"stroke\"] == 0) &\\\n",
        "                                           (real_input[feature] > 950)].size\n",
        "# No-Cardiovascular dataset size\n",
        "dataset_len_no_cardiovascular = real_output[(real_output[\"stroke\"] == 0)].size\n",
        "# No-Cardiovascular mean value\n",
        "mean_value_no_cardiovascular = total_sum_no_cardiovascular / (dataset_len_no_cardiovascular\\\n",
        "                                                  - zero_len_no_cardiovascular)\n",
        "\n",
        "# Cardiovascular total sum\n",
        "total_sum_cardiovascular = np.sum(real_input[feature][(real_input[feature] >= 470) &\\\n",
        "                                                      (real_input[feature] <= 950) &\\\n",
        "                                                      (real_output[\"stroke\"] == 1)])\n",
        "# Cardiovascular zero_len\n",
        "zero_len_cardiovascular = real_input[feature][(real_input[feature] < 470) &\\\n",
        "                                        (real_output[\"stroke\"] == 1) &\\\n",
        "                                        (real_input[feature]) > 950].size\n",
        "# Cardiovascular dataset size\n",
        "dataset_len_cardiovascular = real_output[(real_output[\"stroke\"] == 1)].size\n",
        "# Cardiovascular mean value\n",
        "mean_value_cardiovascular = total_sum_cardiovascular / (dataset_len_cardiovascular\\\n",
        "                                                  - zero_len_cardiovascular)\n",
        "\n",
        "\n",
        "# No-Cardiovascular\n",
        "real_input[feature] = real_input[feature].mask(((real_input[feature] < 470)|(real_input[feature] > 950))&\\\n",
        "                                               (real_output[\"stroke\"] == 0),\\\n",
        "                                               other = mean_value_no_cardiovascular)\n",
        "# Cardiovascular\n",
        "real_input[feature] = real_input[feature].mask(((real_input[feature] < 470)|(real_input[feature] > 950))&\\\n",
        "                                               (real_output[\"stroke\"] == 1),\\\n",
        "                                               other = mean_value_cardiovascular)"
      ],
      "metadata": {
        "id": "KtFIZp_MRAQV"
      },
      "execution_count": 360,
      "outputs": []
    },
    {
      "cell_type": "code",
      "source": [
        "print(\"feature\", feature, \"details =\")\n",
        "real_input[feature].describe()"
      ],
      "metadata": {
        "colab": {
          "base_uri": "https://localhost:8080/"
        },
        "id": "1MlpyH9GRGQN",
        "outputId": "27ff05e0-d91a-48de-b69d-7acb669534c4"
      },
      "execution_count": 361,
      "outputs": [
        {
          "output_type": "stream",
          "name": "stdout",
          "text": [
            "feature ever_married details =\n"
          ]
        },
        {
          "output_type": "execute_result",
          "data": {
            "text/plain": [
              "count    43400.000000\n",
              "mean         0.627535\n",
              "std          0.085061\n",
              "min          0.000000\n",
              "25%          0.639064\n",
              "50%          0.639064\n",
              "75%          0.639064\n",
              "max          0.639064\n",
              "Name: ever_married, dtype: float64"
            ]
          },
          "metadata": {},
          "execution_count": 361
        }
      ]
    },
    {
      "cell_type": "code",
      "source": [
        "'''\n",
        "Feature \"ever_married\" is now well distributed\n",
        "'''\n",
        "real_input[feature].hist(figsize = (10, 5), bins = 20)"
      ],
      "metadata": {
        "colab": {
          "base_uri": "https://localhost:8080/",
          "height": 339
        },
        "id": "c1gt36seRU7c",
        "outputId": "f2cb0996-95e8-48ab-ab9d-3d73cc448940"
      },
      "execution_count": 362,
      "outputs": [
        {
          "output_type": "execute_result",
          "data": {
            "text/plain": [
              "<matplotlib.axes._subplots.AxesSubplot at 0x7f1b1fb7ff90>"
            ]
          },
          "metadata": {},
          "execution_count": 362
        },
        {
          "output_type": "display_data",
          "data": {
            "text/plain": [
              "<Figure size 720x360 with 1 Axes>"
            ],
            "image/png": "[encoded data removed]"
          },
          "metadata": {
            "needs_background": "light"
          }
        }
      ]
    },
    {
      "cell_type": "code",
      "source": [
        "real_input.boxplot(column = feature, figsize = (10, 5))"
      ],
      "metadata": {
        "colab": {
          "base_uri": "https://localhost:8080/",
          "height": 340
        },
        "id": "sAETOkpARVbF",
        "outputId": "89e21636-6594-41ae-9c44-085e36919fdd"
      },
      "execution_count": 363,
      "outputs": [
        {
          "output_type": "execute_result",
          "data": {
            "text/plain": [
              "<matplotlib.axes._subplots.AxesSubplot at 0x7f1b1fae6f50>"
            ]
          },
          "metadata": {},
          "execution_count": 363
        },
        {
          "output_type": "display_data",
          "data": {
            "text/plain": [
              "<Figure size 720x360 with 1 Axes>"
            ],
            "image/png": "[encoded data removed]"
          },
          "metadata": {
            "needs_background": "light"
          }
        }
      ]
    },
    {
      "cell_type": "code",
      "source": [
        "j += 1\n",
        "feature = features[j]\n",
        "real_input[feature].hist(figsize = (10, 5), bins = 20)"
      ],
      "metadata": {
        "colab": {
          "base_uri": "https://localhost:8080/",
          "height": 339
        },
        "id": "qkEnxy1eRYTc",
        "outputId": "cf6038e2-4610-48c5-e915-176689103424"
      },
      "execution_count": 364,
      "outputs": [
        {
          "output_type": "execute_result",
          "data": {
            "text/plain": [
              "<matplotlib.axes._subplots.AxesSubplot at 0x7f1b1fa83790>"
            ]
          },
          "metadata": {},
          "execution_count": 364
        },
        {
          "output_type": "display_data",
          "data": {
            "text/plain": [
              "<Figure size 720x360 with 1 Axes>"
            ],
            "image/png": "[encoded data removed]"
          },
          "metadata": {
            "needs_background": "light"
          }
        }
      ]
    },
    {
      "cell_type": "code",
      "source": [
        "real_input.boxplot(column = feature, figsize = (10, 5))"
      ],
      "metadata": {
        "colab": {
          "base_uri": "https://localhost:8080/",
          "height": 340
        },
        "id": "HpJc8sX1RcFK",
        "outputId": "62c4bb04-0e27-443b-970f-286fb6e73de6"
      },
      "execution_count": 365,
      "outputs": [
        {
          "output_type": "execute_result",
          "data": {
            "text/plain": [
              "<matplotlib.axes._subplots.AxesSubplot at 0x7f1b1fa1e710>"
            ]
          },
          "metadata": {},
          "execution_count": 365
        },
        {
          "output_type": "display_data",
          "data": {
            "text/plain": [
              "<Figure size 720x360 with 1 Axes>"
            ],
            "image/png": "[encoded data removed]"
          },
          "metadata": {
            "needs_background": "light"
          }
        }
      ]
    },
    {
      "cell_type": "code",
      "source": [
        "'''\n",
        "For feature \"Residence_type\",\n",
        "outliers found in both histogram and boxplot\n",
        "Set \"ap_hi\" < 100 = 100 and \"ap_hi\" > 170 = 170 \n",
        "'''\n",
        "\n",
        "real_input[feature] = real_input[feature].mask(real_input[feature] < 0.09, other = 0.09)\n",
        "\n",
        "\n",
        "# No-Cardiovascular total sum\n",
        "total_sum_no_cardiovascular = np.sum(real_input[feature][(real_input[feature] >= 0.0) &\\\n",
        "                                                         (real_input[feature] <= 1.5) &\\\n",
        "                                                         (real_output[\"stroke\"] == 0)])\n",
        "# No-Cardiovascular zero_len\n",
        "zero_len_no_cardiovascular = real_input[feature][(real_input[feature] < 0.09) &\\\n",
        "                                           (real_output[\"stroke\"] == 0) &\\\n",
        "                                           (real_input[feature] > 0.105)].size\n",
        "# No-Cardiovascular dataset size\n",
        "dataset_len_no_cardiovascular = real_output[(real_output[\"stroke\"] == 0)].size\n",
        "# No-Cardiovascular mean value\n",
        "mean_value_no_cardiovascular = total_sum_no_cardiovascular / (dataset_len_no_cardiovascular\\\n",
        "                                                  - zero_len_no_cardiovascular)\n",
        "\n",
        "# Cardiovascular total sum\n",
        "total_sum_cardiovascular = np.sum(real_input[feature][(real_input[feature] >= 0.09) &\\\n",
        "                                                      (real_input[feature] <= 0.105) &\\\n",
        "                                                      (real_output[\"stroke\"] == 1)])\n",
        "# Cardiovascular zero_len\n",
        "zero_len_cardiovascular = real_input[feature][(real_input[feature] < 0.09) &\\\n",
        "                                        (real_output[\"stroke\"] == 1) &\\\n",
        "                                        (real_input[feature]) > 0.105].size\n",
        "# Cardiovascular dataset size\n",
        "dataset_len_cardiovascular = real_output[(real_output[\"stroke\"] == 1)].size\n",
        "# Cardiovascular mean value\n",
        "mean_value_cardiovascular = total_sum_cardiovascular / (dataset_len_cardiovascular\\\n",
        "                                                  - zero_len_cardiovascular)\n",
        "\n",
        "\n",
        "# No-Cardiovascular\n",
        "real_input[feature] = real_input[feature].mask(((real_input[feature] < 0.09)|(real_input[feature] > 0.105))&\\\n",
        "                                               (real_output[\"stroke\"] == 0),\\\n",
        "                                               other = mean_value_no_cardiovascular)\n",
        "# Cardiovascular\n",
        "real_input[feature] = real_input[feature].mask(((real_input[feature] < 0.09)|(real_input[feature] > 0.105))&\\\n",
        "                                               (real_output[\"stroke\"] == 1),\\\n",
        "                                               other = mean_value_cardiovascular)"
      ],
      "metadata": {
        "id": "AhyxTk8hRfA0"
      },
      "execution_count": 366,
      "outputs": []
    },
    {
      "cell_type": "code",
      "source": [
        "print(\"feature\", feature, \"details =\")\n",
        "real_input[feature].describe()"
      ],
      "metadata": {
        "colab": {
          "base_uri": "https://localhost:8080/"
        },
        "id": "vRFM1UO6RweE",
        "outputId": "f2142fa1-893d-4f0b-dfce-1e890ab22bfe"
      },
      "execution_count": 367,
      "outputs": [
        {
          "output_type": "stream",
          "name": "stdout",
          "text": [
            "feature Residence_type details =\n"
          ]
        },
        {
          "output_type": "execute_result",
          "data": {
            "text/plain": [
              "count    43400.000000\n",
              "mean         0.313992\n",
              "std          0.228449\n",
              "min          0.044138\n",
              "25%          0.090000\n",
              "50%          0.090000\n",
              "75%          0.546036\n",
              "max          0.546036\n",
              "Name: Residence_type, dtype: float64"
            ]
          },
          "metadata": {},
          "execution_count": 367
        }
      ]
    },
    {
      "cell_type": "code",
      "source": [
        "'''\n",
        "Feature \"Residence_type\" is now well distributed\n",
        "'''\n",
        "real_input[feature].hist(figsize = (10, 5), bins = 20)"
      ],
      "metadata": {
        "colab": {
          "base_uri": "https://localhost:8080/",
          "height": 339
        },
        "id": "omS-RLMeRw0w",
        "outputId": "cf09a8fa-2656-455b-88b3-2b38cf92e8c7"
      },
      "execution_count": 369,
      "outputs": [
        {
          "output_type": "execute_result",
          "data": {
            "text/plain": [
              "<matplotlib.axes._subplots.AxesSubplot at 0x7f1b1f925590>"
            ]
          },
          "metadata": {},
          "execution_count": 369
        },
        {
          "output_type": "display_data",
          "data": {
            "text/plain": [
              "<Figure size 720x360 with 1 Axes>"
            ],
            "image/png": "[encoded data removed]"
          },
          "metadata": {
            "needs_background": "light"
          }
        }
      ]
    },
    {
      "cell_type": "code",
      "source": [
        "real_input.boxplot(column = feature, figsize = (10, 5))"
      ],
      "metadata": {
        "colab": {
          "base_uri": "https://localhost:8080/",
          "height": 340
        },
        "id": "XFipbVV8RzAr",
        "outputId": "4f8506ad-c473-488f-cf01-bcd4ab369ee2"
      },
      "execution_count": 370,
      "outputs": [
        {
          "output_type": "execute_result",
          "data": {
            "text/plain": [
              "<matplotlib.axes._subplots.AxesSubplot at 0x7f1b1f7cc0d0>"
            ]
          },
          "metadata": {},
          "execution_count": 370
        },
        {
          "output_type": "display_data",
          "data": {
            "text/plain": [
              "<Figure size 720x360 with 1 Axes>"
            ],
            "image/png": "[encoded data removed]"
          },
          "metadata": {
            "needs_background": "light"
          }
        }
      ]
    },
    {
      "cell_type": "code",
      "source": [
        "j += 1\n",
        "feature = features[j]\n",
        "real_input[feature].hist(figsize = (10, 5), bins = 20)"
      ],
      "metadata": {
        "colab": {
          "base_uri": "https://localhost:8080/",
          "height": 339
        },
        "id": "A9iuaUqbR1Ks",
        "outputId": "89eefcdf-07ce-4ea7-a167-394e423c9076"
      },
      "execution_count": 371,
      "outputs": [
        {
          "output_type": "execute_result",
          "data": {
            "text/plain": [
              "<matplotlib.axes._subplots.AxesSubplot at 0x7f1b1f7f5910>"
            ]
          },
          "metadata": {},
          "execution_count": 371
        },
        {
          "output_type": "display_data",
          "data": {
            "text/plain": [
              "<Figure size 720x360 with 1 Axes>"
            ],
            "image/png": "[encoded data removed]"
          },
          "metadata": {
            "needs_background": "light"
          }
        }
      ]
    },
    {
      "cell_type": "code",
      "source": [
        "real_input.boxplot(column = feature, figsize = (10, 5))"
      ],
      "metadata": {
        "colab": {
          "base_uri": "https://localhost:8080/",
          "height": 341
        },
        "id": "CMIGMTKOR-vX",
        "outputId": "f8e704f5-e8c9-48cd-ec96-4baae5b11148"
      },
      "execution_count": 372,
      "outputs": [
        {
          "output_type": "execute_result",
          "data": {
            "text/plain": [
              "<matplotlib.axes._subplots.AxesSubplot at 0x7f1b1f772f90>"
            ]
          },
          "metadata": {},
          "execution_count": 372
        },
        {
          "output_type": "display_data",
          "data": {
            "text/plain": [
              "<Figure size 720x360 with 1 Axes>"
            ],
            "image/png": "[encoded data removed]"
          },
          "metadata": {
            "needs_background": "light"
          }
        }
      ]
    },
    {
      "cell_type": "code",
      "source": [
        "'''\n",
        "For feature \"avg_glucose_level\",\n",
        "outliers found in both histogram and boxplot\n",
        "Set \"ap_hi\" < 100 = 100 and \"ap_hi\" > 170 = 170 \n",
        "'''\n",
        "\n",
        "real_input[feature] = real_input[feature].mask(real_input[feature] < 0.08, other = 60)\n",
        "real_input[feature] = real_input[feature].mask(real_input[feature] > 0.15, other = 150)\n",
        "\n",
        "# No-Cardiovascular total sum\n",
        "total_sum_no_cardiovascular = np.sum(real_input[feature][(real_input[feature] >= 20) &\\\n",
        "                                                         (real_input[feature] <= 40) &\\\n",
        "                                                         (real_output[\"stroke\"] == 0)])\n",
        "# No-Cardiovascular zero_len\n",
        "zero_len_no_cardiovascular = real_input[feature][(real_input[feature] < 0.08) &\\\n",
        "                                           (real_output[\"stroke\"] == 0) &\\\n",
        "                                           (real_input[feature] > 0.15)].size\n",
        "# No-Cardiovascular dataset size\n",
        "dataset_len_no_cardiovascular = real_output[(real_output[\"stroke\"] == 0)].size\n",
        "# No-Cardiovascular mean value\n",
        "mean_value_no_cardiovascular = total_sum_no_cardiovascular / (dataset_len_no_cardiovascular\\\n",
        "                                                  - zero_len_no_cardiovascular)\n",
        "\n",
        "# Cardiovascular total sum\n",
        "total_sum_cardiovascular = np.sum(real_input[feature][(real_input[feature] >= 0.08) &\\\n",
        "                                                      (real_input[feature] <= 0.15) &\\\n",
        "                                                      (real_output[\"stroke\"] == 1)])\n",
        "# Cardiovascular zero_len\n",
        "zero_len_cardiovascular = real_input[feature][(real_input[feature] < 0.08) &\\\n",
        "                                        (real_output[\"stroke\"] == 1) &\\\n",
        "                                        (real_input[feature]) > 0.15].size\n",
        "# Cardiovascular dataset size\n",
        "dataset_len_cardiovascular = real_output[(real_output[\"stroke\"] == 1)].size\n",
        "# Cardiovascular mean value\n",
        "mean_value_cardiovascular = total_sum_cardiovascular / (dataset_len_cardiovascular\\\n",
        "                                                  - zero_len_cardiovascular)\n",
        "\n",
        "\n",
        "# No-Cardiovascular\n",
        "real_input[feature] = real_input[feature].mask(((real_input[feature] < 0.08)|(real_input[feature] > 0.15))&\\\n",
        "                                               (real_output[\"stroke\"] == 0),\\\n",
        "                                               other = mean_value_no_cardiovascular)\n",
        "# Cardiovascular\n",
        "real_input[feature] = real_input[feature].mask(((real_input[feature] < 0.08)|(real_input[feature] > 0.15))&\\\n",
        "                                               (real_output[\"stroke\"] == 1),\\\n",
        "                                               other = mean_value_cardiovascular)"
      ],
      "metadata": {
        "id": "zViijLpHSH26"
      },
      "execution_count": 373,
      "outputs": []
    },
    {
      "cell_type": "code",
      "source": [
        "print(\"feature\", feature, \"details =\")\n",
        "real_input[feature].describe()"
      ],
      "metadata": {
        "colab": {
          "base_uri": "https://localhost:8080/"
        },
        "id": "bivNKmjeSh-q",
        "outputId": "43e79444-eaf5-4166-8a3d-dcdb55f87f7e"
      },
      "execution_count": 374,
      "outputs": [
        {
          "output_type": "stream",
          "name": "stdout",
          "text": [
            "feature avg_glucose_level details =\n"
          ]
        },
        {
          "output_type": "execute_result",
          "data": {
            "text/plain": [
              "count    43400.0\n",
              "mean         0.0\n",
              "std          0.0\n",
              "min          0.0\n",
              "25%          0.0\n",
              "50%          0.0\n",
              "75%          0.0\n",
              "max          0.0\n",
              "Name: avg_glucose_level, dtype: float64"
            ]
          },
          "metadata": {},
          "execution_count": 374
        }
      ]
    },
    {
      "cell_type": "code",
      "source": [
        "'''\n",
        "Feature \"avg_glucose_level\" is now well distributed\n",
        "'''\n",
        "real_input[feature].hist(figsize = (10, 5), bins = 20)"
      ],
      "metadata": {
        "colab": {
          "base_uri": "https://localhost:8080/",
          "height": 339
        },
        "id": "7g8ykcVlSiYY",
        "outputId": "d5a5259b-f80b-443e-b85d-f509eaad3446"
      },
      "execution_count": 375,
      "outputs": [
        {
          "output_type": "execute_result",
          "data": {
            "text/plain": [
              "<matplotlib.axes._subplots.AxesSubplot at 0x7f1b1f694510>"
            ]
          },
          "metadata": {},
          "execution_count": 375
        },
        {
          "output_type": "display_data",
          "data": {
            "text/plain": [
              "<Figure size 720x360 with 1 Axes>"
            ],
            "image/png": "[encoded data removed]"
          },
          "metadata": {
            "needs_background": "light"
          }
        }
      ]
    },
    {
      "cell_type": "code",
      "source": [
        "real_input.boxplot(column = feature, figsize = (10, 5))"
      ],
      "metadata": {
        "colab": {
          "base_uri": "https://localhost:8080/",
          "height": 340
        },
        "id": "j79FVs03SlCW",
        "outputId": "2c89fc66-a5d5-4ea0-b177-88ef2fa132c4"
      },
      "execution_count": 376,
      "outputs": [
        {
          "output_type": "execute_result",
          "data": {
            "text/plain": [
              "<matplotlib.axes._subplots.AxesSubplot at 0x7f1b1f5cdad0>"
            ]
          },
          "metadata": {},
          "execution_count": 376
        },
        {
          "output_type": "display_data",
          "data": {
            "text/plain": [
              "<Figure size 720x360 with 1 Axes>"
            ],
            "image/png": "[encoded data removed]"
          },
          "metadata": {
            "needs_background": "light"
          }
        }
      ]
    },
    {
      "cell_type": "code",
      "source": [
        "j += 1\n",
        "feature = features[j]\n",
        "real_input[feature].hist(figsize = (10, 5), bins = 20)"
      ],
      "metadata": {
        "colab": {
          "base_uri": "https://localhost:8080/",
          "height": 339
        },
        "id": "6PTorbH65lO7",
        "outputId": "5dcdb990-d403-40b6-a7cf-e8deba290ed6"
      },
      "execution_count": 377,
      "outputs": [
        {
          "output_type": "execute_result",
          "data": {
            "text/plain": [
              "<matplotlib.axes._subplots.AxesSubplot at 0x7f1b1f604e90>"
            ]
          },
          "metadata": {},
          "execution_count": 377
        },
        {
          "output_type": "display_data",
          "data": {
            "text/plain": [
              "<Figure size 720x360 with 1 Axes>"
            ],
            "image/png": "[encoded data removed]"
          },
          "metadata": {
            "needs_background": "light"
          }
        }
      ]
    },
    {
      "cell_type": "code",
      "source": [
        "real_input.boxplot(column = feature, figsize = (10, 5))"
      ],
      "metadata": {
        "colab": {
          "base_uri": "https://localhost:8080/",
          "height": 339
        },
        "id": "lGaPZ3ax_xnn",
        "outputId": "c193ff05-05bb-4817-a9dd-b0c7f8e9ffad"
      },
      "execution_count": 378,
      "outputs": [
        {
          "output_type": "execute_result",
          "data": {
            "text/plain": [
              "<matplotlib.axes._subplots.AxesSubplot at 0x7f1b1f547c10>"
            ]
          },
          "metadata": {},
          "execution_count": 378
        },
        {
          "output_type": "display_data",
          "data": {
            "text/plain": [
              "<Figure size 720x360 with 1 Axes>"
            ],
            "image/png": "[encoded data removed]"
          },
          "metadata": {
            "needs_background": "light"
          }
        }
      ]
    },
    {
      "cell_type": "code",
      "source": [
        "'''\n",
        "For feature \"bmi\",\n",
        "outliers found in both histogram and boxplot\n",
        "Set \"ap_hi\" < 100 = 100 and \"ap_hi\" > 170 = 170 \n",
        "'''\n",
        "\n",
        "real_input[feature] = real_input[feature].mask(real_input[feature] < 0.08, other = 20)\n",
        "real_input[feature] = real_input[feature].mask(real_input[feature] > 0.15, other = 40)\n",
        "\n",
        "# No-Cardiovascular total sum\n",
        "total_sum_no_cardiovascular = np.sum(real_input[feature][(real_input[feature] >= 20) &\\\n",
        "                                                         (real_input[feature] <= 40) &\\\n",
        "                                                         (real_output[\"stroke\"] == 0)])\n",
        "# No-Cardiovascular zero_len\n",
        "zero_len_no_cardiovascular = real_input[feature][(real_input[feature] < 0.08) &\\\n",
        "                                           (real_output[\"stroke\"] == 0) &\\\n",
        "                                           (real_input[feature] > 0.15)].size\n",
        "# No-Cardiovascular dataset size\n",
        "dataset_len_no_cardiovascular = real_output[(real_output[\"stroke\"] == 0)].size\n",
        "# No-Cardiovascular mean value\n",
        "mean_value_no_cardiovascular = total_sum_no_cardiovascular / (dataset_len_no_cardiovascular\\\n",
        "                                                  - zero_len_no_cardiovascular)\n",
        "\n",
        "# Cardiovascular total sum\n",
        "total_sum_cardiovascular = np.sum(real_input[feature][(real_input[feature] >= 0.08) &\\\n",
        "                                                      (real_input[feature] <= 0.15) &\\\n",
        "                                                      (real_output[\"stroke\"] == 1)])\n",
        "# Cardiovascular zero_len\n",
        "zero_len_cardiovascular = real_input[feature][(real_input[feature] < 0.08) &\\\n",
        "                                        (real_output[\"stroke\"] == 1) &\\\n",
        "                                        (real_input[feature]) > 0.15].size\n",
        "# Cardiovascular dataset size\n",
        "dataset_len_cardiovascular = real_output[(real_output[\"stroke\"] == 1)].size\n",
        "# Cardiovascular mean value\n",
        "mean_value_cardiovascular = total_sum_cardiovascular / (dataset_len_cardiovascular\\\n",
        "                                                  - zero_len_cardiovascular)\n",
        "\n",
        "\n",
        "# No-Cardiovascular\n",
        "real_input[feature] = real_input[feature].mask(((real_input[feature] < 0.08)|(real_input[feature] > 0.15))&\\\n",
        "                                               (real_output[\"stroke\"] == 0),\\\n",
        "                                               other = mean_value_no_cardiovascular)\n",
        "# Cardiovascular\n",
        "real_input[feature] = real_input[feature].mask(((real_input[feature] < 0.08)|(real_input[feature] > 0.15))&\\\n",
        "                                               (real_output[\"stroke\"] == 1),\\\n",
        "                                               other = mean_value_cardiovascular)"
      ],
      "metadata": {
        "id": "ZH4eNRWN_6gc"
      },
      "execution_count": 379,
      "outputs": []
    },
    {
      "cell_type": "code",
      "source": [
        "print(\"feature\", feature, \"details =\")\n",
        "real_input[feature].describe()"
      ],
      "metadata": {
        "colab": {
          "base_uri": "https://localhost:8080/"
        },
        "id": "PcIcFXpsAAUO",
        "outputId": "e55ff548-5d17-4362-cdef-e86ad59a3554"
      },
      "execution_count": 380,
      "outputs": [
        {
          "output_type": "stream",
          "name": "stdout",
          "text": [
            "feature bmi details =\n"
          ]
        },
        {
          "output_type": "execute_result",
          "data": {
            "text/plain": [
              "count    41938.000000\n",
              "mean        38.164919\n",
              "std          4.762404\n",
              "min          0.000000\n",
              "25%         38.759181\n",
              "50%         38.759181\n",
              "75%         38.759181\n",
              "max         38.759181\n",
              "Name: bmi, dtype: float64"
            ]
          },
          "metadata": {},
          "execution_count": 380
        }
      ]
    },
    {
      "cell_type": "code",
      "source": [
        "real_input[feature].hist(figsize = (10, 5), bins = 10)"
      ],
      "metadata": {
        "colab": {
          "base_uri": "https://localhost:8080/",
          "height": 339
        },
        "id": "GayMaDxnAIbd",
        "outputId": "e5e1f646-9146-4af5-9915-82a63d00de1e"
      },
      "execution_count": 381,
      "outputs": [
        {
          "output_type": "execute_result",
          "data": {
            "text/plain": [
              "<matplotlib.axes._subplots.AxesSubplot at 0x7f1b1f4a5d50>"
            ]
          },
          "metadata": {},
          "execution_count": 381
        },
        {
          "output_type": "display_data",
          "data": {
            "text/plain": [
              "<Figure size 720x360 with 1 Axes>"
            ],
            "image/png": "[encoded data removed]"
          },
          "metadata": {
            "needs_background": "light"
          }
        }
      ]
    },
    {
      "cell_type": "code",
      "source": [
        "real_input.boxplot(column = feature, figsize = (10, 5))"
      ],
      "metadata": {
        "colab": {
          "base_uri": "https://localhost:8080/",
          "height": 339
        },
        "id": "5vFAR6APAKSj",
        "outputId": "42ce0818-e891-4bb8-9662-cf56000c84ea"
      },
      "execution_count": 382,
      "outputs": [
        {
          "output_type": "execute_result",
          "data": {
            "text/plain": [
              "<matplotlib.axes._subplots.AxesSubplot at 0x7f1b1f439cd0>"
            ]
          },
          "metadata": {},
          "execution_count": 382
        },
        {
          "output_type": "display_data",
          "data": {
            "text/plain": [
              "<Figure size 720x360 with 1 Axes>"
            ],
            "image/png": "[encoded data removed]"
          },
          "metadata": {
            "needs_background": "light"
          }
        }
      ]
    },
    {
      "cell_type": "code",
      "source": [
        "#data normalization\n",
        "'''    \n",
        "There are a number of techniques to normalize data such as-\n",
        "min-max normalization, feature clipping, log scaling, z-score etc.\n",
        "more information available at -\n",
        "https://developers.google.com/machine-learning/data-prep/transform/normalization\n",
        "'''\n",
        "# min-max equation -\n",
        "# X = (X - Xmin) / (Xmax - Xmin)\n",
        "#real_input = (real_input - real_input.min()) / (real_input.max() - real_input.min())\n",
        "tmp_input  = sk_preprocessing.MinMaxScaler().fit_transform(real_input)\n",
        "real_input = pd.DataFrame(data = tmp_input, columns = real_input.columns.values.tolist())\n",
        "\n",
        "real_input"
      ],
      "metadata": {
        "colab": {
          "base_uri": "https://localhost:8080/",
          "height": 424
        },
        "id": "6MsrcAVqAQRm",
        "outputId": "b9254ded-ee3a-40f6-83d1-7b7d4a830a1b"
      },
      "execution_count": 383,
      "outputs": [
        {
          "output_type": "execute_result",
          "data": {
            "text/plain": [
              "            age  hypertension  heart_disease  ever_married  Residence_type  \\\n",
              "0      1.000000           0.0            0.0           1.0        0.091377   \n",
              "1      1.000000           0.0            0.0           1.0        1.000000   \n",
              "2      1.000000           0.0            0.0           1.0        1.000000   \n",
              "3      1.000000           0.0            0.0           1.0        0.091377   \n",
              "4      0.450616           0.0            0.0           1.0        0.091377   \n",
              "...         ...           ...            ...           ...             ...   \n",
              "43395  1.000000           0.0            0.0           1.0        1.000000   \n",
              "43396  1.000000           0.0            0.0           1.0        1.000000   \n",
              "43397  1.000000           0.0            0.0           1.0        1.000000   \n",
              "43398  1.000000           0.0            0.0           1.0        1.000000   \n",
              "43399  1.000000           0.0            0.0           1.0        1.000000   \n",
              "\n",
              "       avg_glucose_level  bmi  \n",
              "0                    0.0  1.0  \n",
              "1                    0.0  1.0  \n",
              "2                    0.0  1.0  \n",
              "3                    0.0  1.0  \n",
              "4                    0.0  1.0  \n",
              "...                  ...  ...  \n",
              "43395                0.0  1.0  \n",
              "43396                0.0  1.0  \n",
              "43397                0.0  1.0  \n",
              "43398                0.0  1.0  \n",
              "43399                0.0  1.0  \n",
              "\n",
              "[43400 rows x 7 columns]"
            ],
            "text/html": [
              "\n",
              "  <div id=\"df-97aacf05-03b9-47c1-9667-39db7e533cc3\">\n",
              "    <div class=\"colab-df-container\">\n",
              "      <div>\n",
              "<style scoped>\n",
              "    .dataframe tbody tr th:only-of-type {\n",
              "        vertical-align: middle;\n",
              "    }\n",
              "\n",
              "    .dataframe tbody tr th {\n",
              "        vertical-align: top;\n",
              "    }\n",
              "\n",
              "    .dataframe thead th {\n",
              "        text-align: right;\n",
              "    }\n",
              "</style>\n",
              "<table border=\"1\" class=\"dataframe\">\n",
              "  <thead>\n",
              "    <tr style=\"text-align: right;\">\n",
              "      <th></th>\n",
              "      <th>age</th>\n",
              "      <th>hypertension</th>\n",
              "      <th>heart_disease</th>\n",
              "      <th>ever_married</th>\n",
              "      <th>Residence_type</th>\n",
              "      <th>avg_glucose_level</th>\n",
              "      <th>bmi</th>\n",
              "    </tr>\n",
              "  </thead>\n",
              "  <tbody>\n",
              "    <tr>\n",
              "      <th>0</th>\n",
              "      <td>1.000000</td>\n",
              "      <td>0.0</td>\n",
              "      <td>0.0</td>\n",
              "      <td>1.0</td>\n",
              "      <td>0.091377</td>\n",
              "      <td>0.0</td>\n",
              "      <td>1.0</td>\n",
              "    </tr>\n",
              "    <tr>\n",
              "      <th>1</th>\n",
              "      <td>1.000000</td>\n",
              "      <td>0.0</td>\n",
              "      <td>0.0</td>\n",
              "      <td>1.0</td>\n",
              "      <td>1.000000</td>\n",
              "      <td>0.0</td>\n",
              "      <td>1.0</td>\n",
              "    </tr>\n",
              "    <tr>\n",
              "      <th>2</th>\n",
              "      <td>1.000000</td>\n",
              "      <td>0.0</td>\n",
              "      <td>0.0</td>\n",
              "      <td>1.0</td>\n",
              "      <td>1.000000</td>\n",
              "      <td>0.0</td>\n",
              "      <td>1.0</td>\n",
              "    </tr>\n",
              "    <tr>\n",
              "      <th>3</th>\n",
              "      <td>1.000000</td>\n",
              "      <td>0.0</td>\n",
              "      <td>0.0</td>\n",
              "      <td>1.0</td>\n",
              "      <td>0.091377</td>\n",
              "      <td>0.0</td>\n",
              "      <td>1.0</td>\n",
              "    </tr>\n",
              "    <tr>\n",
              "      <th>4</th>\n",
              "      <td>0.450616</td>\n",
              "      <td>0.0</td>\n",
              "      <td>0.0</td>\n",
              "      <td>1.0</td>\n",
              "      <td>0.091377</td>\n",
              "      <td>0.0</td>\n",
              "      <td>1.0</td>\n",
              "    </tr>\n",
              "    <tr>\n",
              "      <th>...</th>\n",
              "      <td>...</td>\n",
              "      <td>...</td>\n",
              "      <td>...</td>\n",
              "      <td>...</td>\n",
              "      <td>...</td>\n",
              "      <td>...</td>\n",
              "      <td>...</td>\n",
              "    </tr>\n",
              "    <tr>\n",
              "      <th>43395</th>\n",
              "      <td>1.000000</td>\n",
              "      <td>0.0</td>\n",
              "      <td>0.0</td>\n",
              "      <td>1.0</td>\n",
              "      <td>1.000000</td>\n",
              "      <td>0.0</td>\n",
              "      <td>1.0</td>\n",
              "    </tr>\n",
              "    <tr>\n",
              "      <th>43396</th>\n",
              "      <td>1.000000</td>\n",
              "      <td>0.0</td>\n",
              "      <td>0.0</td>\n",
              "      <td>1.0</td>\n",
              "      <td>1.000000</td>\n",
              "      <td>0.0</td>\n",
              "      <td>1.0</td>\n",
              "    </tr>\n",
              "    <tr>\n",
              "      <th>43397</th>\n",
              "      <td>1.000000</td>\n",
              "      <td>0.0</td>\n",
              "      <td>0.0</td>\n",
              "      <td>1.0</td>\n",
              "      <td>1.000000</td>\n",
              "      <td>0.0</td>\n",
              "      <td>1.0</td>\n",
              "    </tr>\n",
              "    <tr>\n",
              "      <th>43398</th>\n",
              "      <td>1.000000</td>\n",
              "      <td>0.0</td>\n",
              "      <td>0.0</td>\n",
              "      <td>1.0</td>\n",
              "      <td>1.000000</td>\n",
              "      <td>0.0</td>\n",
              "      <td>1.0</td>\n",
              "    </tr>\n",
              "    <tr>\n",
              "      <th>43399</th>\n",
              "      <td>1.000000</td>\n",
              "      <td>0.0</td>\n",
              "      <td>0.0</td>\n",
              "      <td>1.0</td>\n",
              "      <td>1.000000</td>\n",
              "      <td>0.0</td>\n",
              "      <td>1.0</td>\n",
              "    </tr>\n",
              "  </tbody>\n",
              "</table>\n",
              "<p>43400 rows × 7 columns</p>\n",
              "</div>\n",
              "      <button class=\"colab-df-convert\" onclick=\"convertToInteractive('df-97aacf05-03b9-47c1-9667-39db7e533cc3')\"\n",
              "              title=\"Convert this dataframe to an interactive table.\"\n",
              "              style=\"display:none;\">\n",
              "        \n",
              "  <svg xmlns=\"http://www.w3.org/2000/svg\" height=\"24px\"viewBox=\"0 0 24 24\"\n",
              "       width=\"24px\">\n",
              "    <path d=\"M0 0h24v24H0V0z\" fill=\"none\"/>\n",
              "    <path d=\"M18.56 5.44l.94 2.06.94-2.06 2.06-.94-2.06-.94-.94-2.06-.94 2.06-2.06.94zm-11 1L8.5 8.5l.94-2.06 2.06-.94-2.06-.94L8.5 2.5l-.94 2.06-2.06.94zm10 10l.94 2.06.94-2.06 2.06-.94-2.06-.94-.94-2.06-.94 2.06-2.06.94z\"/><path d=\"M17.41 7.96l-1.37-1.37c-.4-.4-.92-.59-1.43-.59-.52 0-1.04.2-1.43.59L10.3 9.45l-7.72 7.72c-.78.78-.78 2.05 0 2.83L4 21.41c.39.39.9.59 1.41.59.51 0 1.02-.2 1.41-.59l7.78-7.78 2.81-2.81c.8-.78.8-2.07 0-2.86zM5.41 20L4 18.59l7.72-7.72 1.47 1.35L5.41 20z\"/>\n",
              "  </svg>\n",
              "      </button>\n",
              "      \n",
              "  <style>\n",
              "    .colab-df-container {\n",
              "      display:flex;\n",
              "      flex-wrap:wrap;\n",
              "      gap: 12px;\n",
              "    }\n",
              "\n",
              "    .colab-df-convert {\n",
              "      background-color: #E8F0FE;\n",
              "      border: none;\n",
              "      border-radius: 50%;\n",
              "      cursor: pointer;\n",
              "      display: none;\n",
              "      fill: #1967D2;\n",
              "      height: 32px;\n",
              "      padding: 0 0 0 0;\n",
              "      width: 32px;\n",
              "    }\n",
              "\n",
              "    .colab-df-convert:hover {\n",
              "      background-color: #E2EBFA;\n",
              "      box-shadow: 0px 1px 2px rgba(60, 64, 67, 0.3), 0px 1px 3px 1px rgba(60, 64, 67, 0.15);\n",
              "      fill: #174EA6;\n",
              "    }\n",
              "\n",
              "    [theme=dark] .colab-df-convert {\n",
              "      background-color: #3B4455;\n",
              "      fill: #D2E3FC;\n",
              "    }\n",
              "\n",
              "    [theme=dark] .colab-df-convert:hover {\n",
              "      background-color: #434B5C;\n",
              "      box-shadow: 0px 1px 3px 1px rgba(0, 0, 0, 0.15);\n",
              "      filter: drop-shadow(0px 1px 2px rgba(0, 0, 0, 0.3));\n",
              "      fill: #FFFFFF;\n",
              "    }\n",
              "  </style>\n",
              "\n",
              "      <script>\n",
              "        const buttonEl =\n",
              "          document.querySelector('#df-97aacf05-03b9-47c1-9667-39db7e533cc3 button.colab-df-convert');\n",
              "        buttonEl.style.display =\n",
              "          google.colab.kernel.accessAllowed ? 'block' : 'none';\n",
              "\n",
              "        async function convertToInteractive(key) {\n",
              "          const element = document.querySelector('#df-97aacf05-03b9-47c1-9667-39db7e533cc3');\n",
              "          const dataTable =\n",
              "            await google.colab.kernel.invokeFunction('convertToInteractive',\n",
              "                                                     [key], {});\n",
              "          if (!dataTable) return;\n",
              "\n",
              "          const docLinkHtml = 'Like what you see? Visit the ' +\n",
              "            '<a target=\"_blank\" href=https://colab.research.google.com/notebooks/data_table.ipynb>data table notebook</a>'\n",
              "            + ' to learn more about interactive tables.';\n",
              "          element.innerHTML = '';\n",
              "          dataTable['output_type'] = 'display_data';\n",
              "          await google.colab.output.renderOutput(dataTable, element);\n",
              "          const docLink = document.createElement('div');\n",
              "          docLink.innerHTML = docLinkHtml;\n",
              "          element.appendChild(docLink);\n",
              "        }\n",
              "      </script>\n",
              "    </div>\n",
              "  </div>\n",
              "  "
            ]
          },
          "metadata": {},
          "execution_count": 383
        }
      ]
    },
    {
      "cell_type": "code",
      "source": [
        "real_input.describe()"
      ],
      "metadata": {
        "colab": {
          "base_uri": "https://localhost:8080/",
          "height": 300
        },
        "id": "I0WDM296AUXA",
        "outputId": "d8543333-2dcc-46e1-bea0-063e50575d50"
      },
      "execution_count": 384,
      "outputs": [
        {
          "output_type": "execute_result",
          "data": {
            "text/plain": [
              "                age  hypertension  heart_disease  ever_married  \\\n",
              "count  43400.000000       43400.0        43400.0  43400.000000   \n",
              "mean       0.945204           0.0            0.0      0.981959   \n",
              "std        0.184889           0.0            0.0      0.133103   \n",
              "min        0.000000           0.0            0.0      0.000000   \n",
              "25%        1.000000           0.0            0.0      1.000000   \n",
              "50%        1.000000           0.0            0.0      1.000000   \n",
              "75%        1.000000           0.0            0.0      1.000000   \n",
              "max        1.000000           0.0            0.0      1.000000   \n",
              "\n",
              "       Residence_type  avg_glucose_level           bmi  \n",
              "count    43400.000000            43400.0  41938.000000  \n",
              "mean         0.537668                0.0      0.984668  \n",
              "std          0.455170                0.0      0.122872  \n",
              "min          0.000000                0.0      0.000000  \n",
              "25%          0.091377                0.0      1.000000  \n",
              "50%          0.091377                0.0      1.000000  \n",
              "75%          1.000000                0.0      1.000000  \n",
              "max          1.000000                0.0      1.000000  "
            ],
            "text/html": [
              "\n",
              "  <div id=\"df-69e36cfb-9915-46a8-89c7-edc5a6c2e8cb\">\n",
              "    <div class=\"colab-df-container\">\n",
              "      <div>\n",
              "<style scoped>\n",
              "    .dataframe tbody tr th:only-of-type {\n",
              "        vertical-align: middle;\n",
              "    }\n",
              "\n",
              "    .dataframe tbody tr th {\n",
              "        vertical-align: top;\n",
              "    }\n",
              "\n",
              "    .dataframe thead th {\n",
              "        text-align: right;\n",
              "    }\n",
              "</style>\n",
              "<table border=\"1\" class=\"dataframe\">\n",
              "  <thead>\n",
              "    <tr style=\"text-align: right;\">\n",
              "      <th></th>\n",
              "      <th>age</th>\n",
              "      <th>hypertension</th>\n",
              "      <th>heart_disease</th>\n",
              "      <th>ever_married</th>\n",
              "      <th>Residence_type</th>\n",
              "      <th>avg_glucose_level</th>\n",
              "      <th>bmi</th>\n",
              "    </tr>\n",
              "  </thead>\n",
              "  <tbody>\n",
              "    <tr>\n",
              "      <th>count</th>\n",
              "      <td>43400.000000</td>\n",
              "      <td>43400.0</td>\n",
              "      <td>43400.0</td>\n",
              "      <td>43400.000000</td>\n",
              "      <td>43400.000000</td>\n",
              "      <td>43400.0</td>\n",
              "      <td>41938.000000</td>\n",
              "    </tr>\n",
              "    <tr>\n",
              "      <th>mean</th>\n",
              "      <td>0.945204</td>\n",
              "      <td>0.0</td>\n",
              "      <td>0.0</td>\n",
              "      <td>0.981959</td>\n",
              "      <td>0.537668</td>\n",
              "      <td>0.0</td>\n",
              "      <td>0.984668</td>\n",
              "    </tr>\n",
              "    <tr>\n",
              "      <th>std</th>\n",
              "      <td>0.184889</td>\n",
              "      <td>0.0</td>\n",
              "      <td>0.0</td>\n",
              "      <td>0.133103</td>\n",
              "      <td>0.455170</td>\n",
              "      <td>0.0</td>\n",
              "      <td>0.122872</td>\n",
              "    </tr>\n",
              "    <tr>\n",
              "      <th>min</th>\n",
              "      <td>0.000000</td>\n",
              "      <td>0.0</td>\n",
              "      <td>0.0</td>\n",
              "      <td>0.000000</td>\n",
              "      <td>0.000000</td>\n",
              "      <td>0.0</td>\n",
              "      <td>0.000000</td>\n",
              "    </tr>\n",
              "    <tr>\n",
              "      <th>25%</th>\n",
              "      <td>1.000000</td>\n",
              "      <td>0.0</td>\n",
              "      <td>0.0</td>\n",
              "      <td>1.000000</td>\n",
              "      <td>0.091377</td>\n",
              "      <td>0.0</td>\n",
              "      <td>1.000000</td>\n",
              "    </tr>\n",
              "    <tr>\n",
              "      <th>50%</th>\n",
              "      <td>1.000000</td>\n",
              "      <td>0.0</td>\n",
              "      <td>0.0</td>\n",
              "      <td>1.000000</td>\n",
              "      <td>0.091377</td>\n",
              "      <td>0.0</td>\n",
              "      <td>1.000000</td>\n",
              "    </tr>\n",
              "    <tr>\n",
              "      <th>75%</th>\n",
              "      <td>1.000000</td>\n",
              "      <td>0.0</td>\n",
              "      <td>0.0</td>\n",
              "      <td>1.000000</td>\n",
              "      <td>1.000000</td>\n",
              "      <td>0.0</td>\n",
              "      <td>1.000000</td>\n",
              "    </tr>\n",
              "    <tr>\n",
              "      <th>max</th>\n",
              "      <td>1.000000</td>\n",
              "      <td>0.0</td>\n",
              "      <td>0.0</td>\n",
              "      <td>1.000000</td>\n",
              "      <td>1.000000</td>\n",
              "      <td>0.0</td>\n",
              "      <td>1.000000</td>\n",
              "    </tr>\n",
              "  </tbody>\n",
              "</table>\n",
              "</div>\n",
              "      <button class=\"colab-df-convert\" onclick=\"convertToInteractive('df-69e36cfb-9915-46a8-89c7-edc5a6c2e8cb')\"\n",
              "              title=\"Convert this dataframe to an interactive table.\"\n",
              "              style=\"display:none;\">\n",
              "        \n",
              "  <svg xmlns=\"http://www.w3.org/2000/svg\" height=\"24px\"viewBox=\"0 0 24 24\"\n",
              "       width=\"24px\">\n",
              "    <path d=\"M0 0h24v24H0V0z\" fill=\"none\"/>\n",
              "    <path d=\"M18.56 5.44l.94 2.06.94-2.06 2.06-.94-2.06-.94-.94-2.06-.94 2.06-2.06.94zm-11 1L8.5 8.5l.94-2.06 2.06-.94-2.06-.94L8.5 2.5l-.94 2.06-2.06.94zm10 10l.94 2.06.94-2.06 2.06-.94-2.06-.94-.94-2.06-.94 2.06-2.06.94z\"/><path d=\"M17.41 7.96l-1.37-1.37c-.4-.4-.92-.59-1.43-.59-.52 0-1.04.2-1.43.59L10.3 9.45l-7.72 7.72c-.78.78-.78 2.05 0 2.83L4 21.41c.39.39.9.59 1.41.59.51 0 1.02-.2 1.41-.59l7.78-7.78 2.81-2.81c.8-.78.8-2.07 0-2.86zM5.41 20L4 18.59l7.72-7.72 1.47 1.35L5.41 20z\"/>\n",
              "  </svg>\n",
              "      </button>\n",
              "      \n",
              "  <style>\n",
              "    .colab-df-container {\n",
              "      display:flex;\n",
              "      flex-wrap:wrap;\n",
              "      gap: 12px;\n",
              "    }\n",
              "\n",
              "    .colab-df-convert {\n",
              "      background-color: #E8F0FE;\n",
              "      border: none;\n",
              "      border-radius: 50%;\n",
              "      cursor: pointer;\n",
              "      display: none;\n",
              "      fill: #1967D2;\n",
              "      height: 32px;\n",
              "      padding: 0 0 0 0;\n",
              "      width: 32px;\n",
              "    }\n",
              "\n",
              "    .colab-df-convert:hover {\n",
              "      background-color: #E2EBFA;\n",
              "      box-shadow: 0px 1px 2px rgba(60, 64, 67, 0.3), 0px 1px 3px 1px rgba(60, 64, 67, 0.15);\n",
              "      fill: #174EA6;\n",
              "    }\n",
              "\n",
              "    [theme=dark] .colab-df-convert {\n",
              "      background-color: #3B4455;\n",
              "      fill: #D2E3FC;\n",
              "    }\n",
              "\n",
              "    [theme=dark] .colab-df-convert:hover {\n",
              "      background-color: #434B5C;\n",
              "      box-shadow: 0px 1px 3px 1px rgba(0, 0, 0, 0.15);\n",
              "      filter: drop-shadow(0px 1px 2px rgba(0, 0, 0, 0.3));\n",
              "      fill: #FFFFFF;\n",
              "    }\n",
              "  </style>\n",
              "\n",
              "      <script>\n",
              "        const buttonEl =\n",
              "          document.querySelector('#df-69e36cfb-9915-46a8-89c7-edc5a6c2e8cb button.colab-df-convert');\n",
              "        buttonEl.style.display =\n",
              "          google.colab.kernel.accessAllowed ? 'block' : 'none';\n",
              "\n",
              "        async function convertToInteractive(key) {\n",
              "          const element = document.querySelector('#df-69e36cfb-9915-46a8-89c7-edc5a6c2e8cb');\n",
              "          const dataTable =\n",
              "            await google.colab.kernel.invokeFunction('convertToInteractive',\n",
              "                                                     [key], {});\n",
              "          if (!dataTable) return;\n",
              "\n",
              "          const docLinkHtml = 'Like what you see? Visit the ' +\n",
              "            '<a target=\"_blank\" href=https://colab.research.google.com/notebooks/data_table.ipynb>data table notebook</a>'\n",
              "            + ' to learn more about interactive tables.';\n",
              "          element.innerHTML = '';\n",
              "          dataTable['output_type'] = 'display_data';\n",
              "          await google.colab.output.renderOutput(dataTable, element);\n",
              "          const docLink = document.createElement('div');\n",
              "          docLink.innerHTML = docLinkHtml;\n",
              "          element.appendChild(docLink);\n",
              "        }\n",
              "      </script>\n",
              "    </div>\n",
              "  </div>\n",
              "  "
            ]
          },
          "metadata": {},
          "execution_count": 384
        }
      ]
    },
    {
      "cell_type": "code",
      "source": [
        "# data correlation \n",
        "real_input.corr()"
      ],
      "metadata": {
        "colab": {
          "base_uri": "https://localhost:8080/",
          "height": 269
        },
        "id": "qKjW5myxAXTv",
        "outputId": "a189b5d4-8a0f-4d7a-d952-5f76cbd3a495"
      },
      "execution_count": 385,
      "outputs": [
        {
          "output_type": "execute_result",
          "data": {
            "text/plain": [
              "                        age  hypertension  heart_disease  ever_married  \\\n",
              "age                1.000000           NaN            NaN      0.692539   \n",
              "hypertension            NaN           NaN            NaN           NaN   \n",
              "heart_disease           NaN           NaN            NaN           NaN   \n",
              "ever_married       0.692539           NaN            NaN      1.000000   \n",
              "Residence_type     0.103967           NaN            NaN      0.146771   \n",
              "avg_glucose_level       NaN           NaN            NaN           NaN   \n",
              "bmi                0.659168           NaN            NaN      1.000000   \n",
              "\n",
              "                   Residence_type  avg_glucose_level       bmi  \n",
              "age                      0.103967                NaN  0.659168  \n",
              "hypertension                  NaN                NaN       NaN  \n",
              "heart_disease                 NaN                NaN       NaN  \n",
              "ever_married             0.146771                NaN  1.000000  \n",
              "Residence_type           1.000000                NaN  0.135428  \n",
              "avg_glucose_level             NaN                NaN       NaN  \n",
              "bmi                      0.135428                NaN  1.000000  "
            ],
            "text/html": [
              "\n",
              "  <div id=\"df-f3dfa379-6a92-4526-9359-d7946a2a7054\">\n",
              "    <div class=\"colab-df-container\">\n",
              "      <div>\n",
              "<style scoped>\n",
              "    .dataframe tbody tr th:only-of-type {\n",
              "        vertical-align: middle;\n",
              "    }\n",
              "\n",
              "    .dataframe tbody tr th {\n",
              "        vertical-align: top;\n",
              "    }\n",
              "\n",
              "    .dataframe thead th {\n",
              "        text-align: right;\n",
              "    }\n",
              "</style>\n",
              "<table border=\"1\" class=\"dataframe\">\n",
              "  <thead>\n",
              "    <tr style=\"text-align: right;\">\n",
              "      <th></th>\n",
              "      <th>age</th>\n",
              "      <th>hypertension</th>\n",
              "      <th>heart_disease</th>\n",
              "      <th>ever_married</th>\n",
              "      <th>Residence_type</th>\n",
              "      <th>avg_glucose_level</th>\n",
              "      <th>bmi</th>\n",
              "    </tr>\n",
              "  </thead>\n",
              "  <tbody>\n",
              "    <tr>\n",
              "      <th>age</th>\n",
              "      <td>1.000000</td>\n",
              "      <td>NaN</td>\n",
              "      <td>NaN</td>\n",
              "      <td>0.692539</td>\n",
              "      <td>0.103967</td>\n",
              "      <td>NaN</td>\n",
              "      <td>0.659168</td>\n",
              "    </tr>\n",
              "    <tr>\n",
              "      <th>hypertension</th>\n",
              "      <td>NaN</td>\n",
              "      <td>NaN</td>\n",
              "      <td>NaN</td>\n",
              "      <td>NaN</td>\n",
              "      <td>NaN</td>\n",
              "      <td>NaN</td>\n",
              "      <td>NaN</td>\n",
              "    </tr>\n",
              "    <tr>\n",
              "      <th>heart_disease</th>\n",
              "      <td>NaN</td>\n",
              "      <td>NaN</td>\n",
              "      <td>NaN</td>\n",
              "      <td>NaN</td>\n",
              "      <td>NaN</td>\n",
              "      <td>NaN</td>\n",
              "      <td>NaN</td>\n",
              "    </tr>\n",
              "    <tr>\n",
              "      <th>ever_married</th>\n",
              "      <td>0.692539</td>\n",
              "      <td>NaN</td>\n",
              "      <td>NaN</td>\n",
              "      <td>1.000000</td>\n",
              "      <td>0.146771</td>\n",
              "      <td>NaN</td>\n",
              "      <td>1.000000</td>\n",
              "    </tr>\n",
              "    <tr>\n",
              "      <th>Residence_type</th>\n",
              "      <td>0.103967</td>\n",
              "      <td>NaN</td>\n",
              "      <td>NaN</td>\n",
              "      <td>0.146771</td>\n",
              "      <td>1.000000</td>\n",
              "      <td>NaN</td>\n",
              "      <td>0.135428</td>\n",
              "    </tr>\n",
              "    <tr>\n",
              "      <th>avg_glucose_level</th>\n",
              "      <td>NaN</td>\n",
              "      <td>NaN</td>\n",
              "      <td>NaN</td>\n",
              "      <td>NaN</td>\n",
              "      <td>NaN</td>\n",
              "      <td>NaN</td>\n",
              "      <td>NaN</td>\n",
              "    </tr>\n",
              "    <tr>\n",
              "      <th>bmi</th>\n",
              "      <td>0.659168</td>\n",
              "      <td>NaN</td>\n",
              "      <td>NaN</td>\n",
              "      <td>1.000000</td>\n",
              "      <td>0.135428</td>\n",
              "      <td>NaN</td>\n",
              "      <td>1.000000</td>\n",
              "    </tr>\n",
              "  </tbody>\n",
              "</table>\n",
              "</div>\n",
              "      <button class=\"colab-df-convert\" onclick=\"convertToInteractive('df-f3dfa379-6a92-4526-9359-d7946a2a7054')\"\n",
              "              title=\"Convert this dataframe to an interactive table.\"\n",
              "              style=\"display:none;\">\n",
              "        \n",
              "  <svg xmlns=\"http://www.w3.org/2000/svg\" height=\"24px\"viewBox=\"0 0 24 24\"\n",
              "       width=\"24px\">\n",
              "    <path d=\"M0 0h24v24H0V0z\" fill=\"none\"/>\n",
              "    <path d=\"M18.56 5.44l.94 2.06.94-2.06 2.06-.94-2.06-.94-.94-2.06-.94 2.06-2.06.94zm-11 1L8.5 8.5l.94-2.06 2.06-.94-2.06-.94L8.5 2.5l-.94 2.06-2.06.94zm10 10l.94 2.06.94-2.06 2.06-.94-2.06-.94-.94-2.06-.94 2.06-2.06.94z\"/><path d=\"M17.41 7.96l-1.37-1.37c-.4-.4-.92-.59-1.43-.59-.52 0-1.04.2-1.43.59L10.3 9.45l-7.72 7.72c-.78.78-.78 2.05 0 2.83L4 21.41c.39.39.9.59 1.41.59.51 0 1.02-.2 1.41-.59l7.78-7.78 2.81-2.81c.8-.78.8-2.07 0-2.86zM5.41 20L4 18.59l7.72-7.72 1.47 1.35L5.41 20z\"/>\n",
              "  </svg>\n",
              "      </button>\n",
              "      \n",
              "  <style>\n",
              "    .colab-df-container {\n",
              "      display:flex;\n",
              "      flex-wrap:wrap;\n",
              "      gap: 12px;\n",
              "    }\n",
              "\n",
              "    .colab-df-convert {\n",
              "      background-color: #E8F0FE;\n",
              "      border: none;\n",
              "      border-radius: 50%;\n",
              "      cursor: pointer;\n",
              "      display: none;\n",
              "      fill: #1967D2;\n",
              "      height: 32px;\n",
              "      padding: 0 0 0 0;\n",
              "      width: 32px;\n",
              "    }\n",
              "\n",
              "    .colab-df-convert:hover {\n",
              "      background-color: #E2EBFA;\n",
              "      box-shadow: 0px 1px 2px rgba(60, 64, 67, 0.3), 0px 1px 3px 1px rgba(60, 64, 67, 0.15);\n",
              "      fill: #174EA6;\n",
              "    }\n",
              "\n",
              "    [theme=dark] .colab-df-convert {\n",
              "      background-color: #3B4455;\n",
              "      fill: #D2E3FC;\n",
              "    }\n",
              "\n",
              "    [theme=dark] .colab-df-convert:hover {\n",
              "      background-color: #434B5C;\n",
              "      box-shadow: 0px 1px 3px 1px rgba(0, 0, 0, 0.15);\n",
              "      filter: drop-shadow(0px 1px 2px rgba(0, 0, 0, 0.3));\n",
              "      fill: #FFFFFF;\n",
              "    }\n",
              "  </style>\n",
              "\n",
              "      <script>\n",
              "        const buttonEl =\n",
              "          document.querySelector('#df-f3dfa379-6a92-4526-9359-d7946a2a7054 button.colab-df-convert');\n",
              "        buttonEl.style.display =\n",
              "          google.colab.kernel.accessAllowed ? 'block' : 'none';\n",
              "\n",
              "        async function convertToInteractive(key) {\n",
              "          const element = document.querySelector('#df-f3dfa379-6a92-4526-9359-d7946a2a7054');\n",
              "          const dataTable =\n",
              "            await google.colab.kernel.invokeFunction('convertToInteractive',\n",
              "                                                     [key], {});\n",
              "          if (!dataTable) return;\n",
              "\n",
              "          const docLinkHtml = 'Like what you see? Visit the ' +\n",
              "            '<a target=\"_blank\" href=https://colab.research.google.com/notebooks/data_table.ipynb>data table notebook</a>'\n",
              "            + ' to learn more about interactive tables.';\n",
              "          element.innerHTML = '';\n",
              "          dataTable['output_type'] = 'display_data';\n",
              "          await google.colab.output.renderOutput(dataTable, element);\n",
              "          const docLink = document.createElement('div');\n",
              "          docLink.innerHTML = docLinkHtml;\n",
              "          element.appendChild(docLink);\n",
              "        }\n",
              "      </script>\n",
              "    </div>\n",
              "  </div>\n",
              "  "
            ]
          },
          "metadata": {},
          "execution_count": 385
        }
      ]
    },
    {
      "cell_type": "code",
      "source": [
        "# graphical representation of data correlation\n",
        "# data correlation means dependency of data among each others i.e.\n",
        "# dependency of attributes among each other\n",
        "'''\n",
        "data correlation formula between two attributes (data columns) X and Y -\n",
        "\n",
        "            Σ(X - Xmean) * Σ(Y - Ymean) \n",
        "corr = -------------------------------------\n",
        "       sqrt(Σ(X - Xmean)^2 * Σ(Y - Ymean)^2)\n",
        "       \n",
        "'''\n",
        "plt.matshow(real_input.corr())\n",
        "plt.xticks(ticks = np.arange(real_input.columns.size), labels = real_input.columns)\n",
        "plt.yticks(ticks = np.arange(real_input.columns.size), labels = real_input.columns)"
      ],
      "metadata": {
        "colab": {
          "base_uri": "https://localhost:8080/",
          "height": 763
        },
        "id": "FZWbbGrlAbsT",
        "outputId": "ab1961fd-eaf5-421f-f2e7-fb383f3e688e"
      },
      "execution_count": 386,
      "outputs": [
        {
          "output_type": "execute_result",
          "data": {
            "text/plain": [
              "([<matplotlib.axis.YTick at 0x7f1b2059ec10>,\n",
              "  <matplotlib.axis.YTick at 0x7f1b1f3b5750>,\n",
              "  <matplotlib.axis.YTick at 0x7f1b1f3c2b50>,\n",
              "  <matplotlib.axis.YTick at 0x7f1b1f371710>,\n",
              "  <matplotlib.axis.YTick at 0x7f1b1f36c750>,\n",
              "  <matplotlib.axis.YTick at 0x7f1b1f3716d0>,\n",
              "  <matplotlib.axis.YTick at 0x7f1b1f371e10>],\n",
              " [Text(0, 0, 'age'),\n",
              "  Text(0, 0, 'hypertension'),\n",
              "  Text(0, 0, 'heart_disease'),\n",
              "  Text(0, 0, 'ever_married'),\n",
              "  Text(0, 0, 'Residence_type'),\n",
              "  Text(0, 0, 'avg_glucose_level'),\n",
              "  Text(0, 0, 'bmi')])"
            ]
          },
          "metadata": {},
          "execution_count": 386
        },
        {
          "output_type": "display_data",
          "data": {
            "text/plain": [
              "<Figure size 576x576 with 1 Axes>"
            ],
            "image/png": "[encoded data removed]"
          },
          "metadata": {
            "needs_background": "light"
          }
        }
      ]
    },
    {
      "cell_type": "code",
      "source": [
        "# split real_input and real_output into train and test input, output taking\n",
        "# 70:30 train:test \n",
        "train_input, test_input, train_output, test_output = sk_model.train_test_split(real_input,\\\n",
        "                                                                                real_output,\\\n",
        "                                                                                train_size = 0.60)\n",
        "train_input.shape, test_input.shape, train_output.shape, test_output.shape"
      ],
      "metadata": {
        "colab": {
          "base_uri": "https://localhost:8080/"
        },
        "id": "638jgwI-Afij",
        "outputId": "20aea6e4-db97-40e2-ecc7-f99461a86b0b"
      },
      "execution_count": 387,
      "outputs": [
        {
          "output_type": "execute_result",
          "data": {
            "text/plain": [
              "((26040, 7), (17360, 7), (26040, 1), (17360, 1))"
            ]
          },
          "metadata": {},
          "execution_count": 387
        }
      ]
    },
    {
      "cell_type": "code",
      "source": [
        "'''\n",
        "Tensor-Flow Keras Neural Network model life-cycle.\n",
        "1. Define the model,\n",
        "2. Compile the model,\n",
        "3. Fit the model,\n",
        "4. Evaluate the model,\n",
        "5. Predict the model.\n",
        "'''"
      ],
      "metadata": {
        "colab": {
          "base_uri": "https://localhost:8080/",
          "height": 36
        },
        "id": "b4vG_nGNAjlz",
        "outputId": "72418f76-1332-49df-d90c-4de7d327a5ec"
      },
      "execution_count": 388,
      "outputs": [
        {
          "output_type": "execute_result",
          "data": {
            "text/plain": [
              "'\\nTensor-Flow Keras Neural Network model life-cycle.\\n1. Define the model,\\n2. Compile the model,\\n3. Fit the model,\\n4. Evaluate the model,\\n5. Predict the model.\\n'"
            ],
            "application/vnd.google.colaboratory.intrinsic+json": {
              "type": "string"
            }
          },
          "metadata": {},
          "execution_count": 388
        }
      ]
    },
    {
      "cell_type": "code",
      "source": [
        "# Define model1\n",
        "h1, h2 = 8, 12\n",
        "o = 1\n",
        "model1 = tf.keras.Sequential()\n",
        "model1.add(tf.keras.layers.Dense(h1, activation = 'tanh',\\\n",
        "                                kernel_initializer = 'glorot_uniform',\\\n",
        "                                input_shape = (train_input.shape[1],)))\n",
        "model1.add(tf.keras.layers.Dense(h2, activation = 'tanh',\\\n",
        "                                kernel_initializer = 'glorot_uniform'))\n",
        "model1.add(tf.keras.layers.Dense(o, activation = 'tanh',\\\n",
        "                                kernel_initializer = 'glorot_uniform'))"
      ],
      "metadata": {
        "id": "tzSsgmy_AmfX"
      },
      "execution_count": 389,
      "outputs": []
    },
    {
      "cell_type": "code",
      "source": [
        "# Define model2\n",
        "h1, h2 = 8, 12\n",
        "o = 1\n",
        "model2 = tf.keras.Sequential()\n",
        "model2.add(tf.keras.layers.Dense(h1, activation = 'sigmoid',\\\n",
        "                                kernel_initializer = 'glorot_uniform',\\\n",
        "                                input_shape = (train_input.shape[1],)))\n",
        "model2.add(tf.keras.layers.Dense(h2, activation = 'sigmoid',\\\n",
        "                                kernel_initializer = 'glorot_uniform'))\n",
        "model2.add(tf.keras.layers.Dense(o, activation = 'sigmoid',\\\n",
        "                                kernel_initializer = 'glorot_uniform'))"
      ],
      "metadata": {
        "id": "eBInICkMAtHu"
      },
      "execution_count": 390,
      "outputs": []
    },
    {
      "cell_type": "code",
      "source": [
        "# Define model3\n",
        "h1, h2 = 8, 12\n",
        "o = 1\n",
        "model3 = tf.keras.Sequential()\n",
        "model3.add(tf.keras.layers.Dense(h1, activation = 'softplus',\\\n",
        "                                kernel_initializer = 'glorot_uniform',\\\n",
        "                                input_shape = (train_input.shape[1],)))\n",
        "model3.add(tf.keras.layers.Dense(h2, activation = 'softplus',\\\n",
        "                                kernel_initializer = 'glorot_uniform'))\n",
        "model3.add(tf.keras.layers.Dense(o, activation = 'softplus',\\\n",
        "                                kernel_initializer = 'glorot_uniform'))"
      ],
      "metadata": {
        "id": "SK0n1iLFAtir"
      },
      "execution_count": 391,
      "outputs": []
    },
    {
      "cell_type": "code",
      "source": [
        ""
      ],
      "metadata": {
        "id": "tJy6lTuHAwL_"
      },
      "execution_count": null,
      "outputs": []
    }
  ]
}